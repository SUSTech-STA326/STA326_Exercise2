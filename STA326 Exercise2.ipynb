{
 "cells": [
  {
   "cell_type": "code",
   "execution_count": 157,
   "id": "45c7766a",
   "metadata": {},
   "outputs": [],
   "source": [
    "import requests\n",
    "import pandas as pd\n",
    "from bs4 import BeautifulSoup\n",
    "import time"
   ]
  },
  {
   "cell_type": "code",
   "execution_count": 158,
   "id": "7f89e9cc",
   "metadata": {},
   "outputs": [
    {
     "name": "stderr",
     "output_type": "stream",
     "text": [
      "D:\\anaconda3\\lib\\site-packages\\bs4\\builder\\__init__.py:545: XMLParsedAsHTMLWarning: It looks like you're parsing an XML document using an HTML parser. If this really is an HTML document (maybe it's XHTML?), you can ignore or filter this warning. If it's XML, you should know that using an XML parser will be more reliable. To parse this document as XML, make sure you have the lxml package installed, and pass the keyword argument `features=\"xml\"` into the BeautifulSoup constructor.\n",
      "  warnings.warn(\n"
     ]
    }
   ],
   "source": [
    "author = []\n",
    "title = []\n",
    "subject = []\n",
    "abstract = []\n",
    "web = []\n",
    "for i in range(0, 76, 25):\n",
    "    url = f'https://arxiv.org/list/cs/pastweek?skip={i}&show=25'\n",
    "    r = requests.get(url)\n",
    "    r.raise_for_status()\n",
    "    soup = BeautifulSoup(r.text)\n",
    "    for i in soup.select(\"#dlpage > dl > dd > div > div.list-title.mathjax \"):\n",
    "        title.append(i.get_text().replace('Title: ', \"\").replace('\\n', ''))\n",
    "    for i in soup.select(\"#dlpage > dl > dd > div > div.list-authors\"):\n",
    "        author.append(i.get_text().replace('Authors:', \"\").replace('\\n', ''))\n",
    "    for i in soup.select(\"#dlpage > dl > dd > div > div.list-subjects\"):\n",
    "        subject.append(i.get_text().replace(\"Subjects:\", \"\").replace('\\n', '').strip())\n",
    "    for i in soup.select('#dlpage > dl > dt > span > a:nth-child(1)'):\n",
    "        web.append('https://arxiv.org'+ i.attrs['href'])\n",
    "    time.sleep(1)"
   ]
  },
  {
   "cell_type": "code",
   "execution_count": 159,
   "id": "17e73363",
   "metadata": {},
   "outputs": [],
   "source": [
    "#处理摘要\n",
    "for website in web:\n",
    "    r = requests.get(website,timeout=7)\n",
    "    r.raise_for_status()\n",
    "    soup = BeautifulSoup(r.text)\n",
    "    for i in soup.select('#abs > blockquote'):\n",
    "        abstract.append(i.get_text().replace('Abstract:','').replace(\"\\n\",\"\"))"
   ]
  },
  {
   "cell_type": "code",
   "execution_count": 160,
   "id": "e0e748d5",
   "metadata": {},
   "outputs": [],
   "source": [
    "df = pd.DataFrame({'title':title,'author':author,'subject':subject,'abstract':abstract})\n",
    "\n",
    "df.to_csv('papers.csv', encoding='utf-8',index=0)"
   ]
  }
 ],
 "metadata": {
  "kernelspec": {
   "display_name": "Python 3 (ipykernel)",
   "language": "python",
   "name": "python3"
  },
  "language_info": {
   "codemirror_mode": {
    "name": "ipython",
    "version": 3
   },
   "file_extension": ".py",
   "mimetype": "text/x-python",
   "name": "python",
   "nbconvert_exporter": "python",
   "pygments_lexer": "ipython3",
   "version": "3.9.12"
  },
  "toc": {
   "base_numbering": 1,
   "nav_menu": {},
   "number_sections": true,
   "sideBar": true,
   "skip_h1_title": false,
   "title_cell": "Table of Contents",
   "title_sidebar": "Contents",
   "toc_cell": false,
   "toc_position": {},
   "toc_section_display": true,
   "toc_window_display": false
  }
 },
 "nbformat": 4,
 "nbformat_minor": 5
}
