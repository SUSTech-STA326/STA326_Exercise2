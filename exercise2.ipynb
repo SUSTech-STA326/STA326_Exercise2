{
 "cells": [
  {
   "cell_type": "code",
   "execution_count": 1,
   "id": "be5ea48e",
   "metadata": {},
   "outputs": [],
   "source": [
    "import requests\n",
    "from bs4 import BeautifulSoup\n",
    "import pandas as pd\n",
    "from tqdm import tqdm\n",
    "from requests.exceptions import Timeout\n",
    "import time"
   ]
  },
  {
   "cell_type": "code",
   "execution_count": 6,
   "id": "31a88305",
   "metadata": {},
   "outputs": [],
   "source": [
    "#url = 'https://httpbin.io/anything' \n",
    "url = 'https://arxiv.org/list/cs/recent?show=100'\n",
    "apikey = '14d2f2062a095a7caa05e0142ce147f5174b0a7e' \n",
    "params = { 'url': url, 'apikey': apikey, } \n",
    "response = requests.get('https://api.zenrows.com/v1/', params=params) "
   ]
  },
  {
   "cell_type": "code",
   "execution_count": 3,
   "id": "f2599345",
   "metadata": {},
   "outputs": [],
   "source": [
    "soup = BeautifulSoup(response.content, 'html.parser')"
   ]
  },
  {
   "cell_type": "code",
   "execution_count": 4,
   "id": "d25b3a6a",
   "metadata": {},
   "outputs": [],
   "source": [
    "title_list=[]\n",
    "subjects_list=[]\n",
    "authors_list=[]\n",
    "\n",
    "infos = soup.dl.find_all('dd')\n",
    "\n",
    "for info in infos:\n",
    "    title = info.find('div', {'class': 'list-title mathjax'}).text.strip().replace('Title: ','')\n",
    "    subjects = info.find('div', {'class': 'list-subjects'}).text.strip().replace('Subjects: ','')\n",
    "    authors = info.find('div', {'class': 'list-authors'}).text.strip().replace('\\n', '').replace('Authors:','')\n",
    "    title_list.append(title)\n",
    "    subjects_list.append(subjects)\n",
    "    authors_list.append(authors)    "
   ]
  },
  {
   "cell_type": "code",
   "execution_count": 15,
   "id": "5c5d1c42",
   "metadata": {},
   "outputs": [
    {
     "name": "stderr",
     "output_type": "stream",
     "text": [
      "100%|██████████| 100/100 [07:59<00:00,  4.80s/it]\n"
     ]
    }
   ],
   "source": [
    "abstracts_list=[]\n",
    "\n",
    "papers = soup.dl.find_all('dt')\n",
    "pbar = tqdm(total=len(papers))\n",
    "\n",
    "for paper in papers:\n",
    "    detail_link = paper.find('a', {'title': 'Abstract'})['href']\n",
    "    detail_url = f\"https://arxiv.org{detail_link}\"\n",
    "#     detail_response = requests.get(detail_url, headers=headers)\n",
    "\n",
    "#     detail_soup = BeautifulSoup(detail_response.content, 'html.parser')\n",
    "#     abstract = detail_soup.find('blockquote', {'class': 'abstract mathjax'}).text.strip().replace('\\n','')\n",
    "#     abstracts_list.append(abstract)\n",
    "#     pbar.update(1)\n",
    "#     time.sleep(3)\n",
    "    \n",
    "    try:\n",
    "        params = { 'url': detail_url, 'apikey': apikey, }\n",
    "        detail_response = requests.get('https://api.zenrows.com/v1/', params=params, timeout=10)\n",
    "        \n",
    "#         if detail_response.status_code == 200:\n",
    "        detail_soup = BeautifulSoup(detail_response.content, 'html.parser')\n",
    "        abstract = detail_soup.find('blockquote', {'class': 'abstract mathjax'}).text.strip()\n",
    "        abstracts_list.append(abstract)\n",
    "        time.sleep(3)\n",
    "        pbar.update(1)\n",
    "    except Timeout:\n",
    "        abstracts_list.append(\"pass\")\n",
    "pbar.close()"
   ]
  },
  {
   "cell_type": "code",
   "execution_count": 16,
   "id": "39cdcf95",
   "metadata": {},
   "outputs": [],
   "source": [
    "df = pd.DataFrame({'Title': title_list, 'Subjects': subjects_list, 'Author(s)': authors_list, 'Abstract': abstracts_list})\n",
    "df.to_csv('output.csv', index=False)"
   ]
  },
  {
   "cell_type": "code",
   "execution_count": 17,
   "id": "ab361269",
   "metadata": {},
   "outputs": [
    {
     "data": {
      "text/plain": [
       "100"
      ]
     },
     "execution_count": 17,
     "metadata": {},
     "output_type": "execute_result"
    }
   ],
   "source": [
    "len(abstracts_list)"
   ]
  },
  {
   "cell_type": "code",
   "execution_count": null,
   "id": "13ef8fe7",
   "metadata": {},
   "outputs": [],
   "source": []
  }
 ],
 "metadata": {
  "kernelspec": {
   "display_name": "Python 3 (ipykernel)",
   "language": "python",
   "name": "python3"
  },
  "language_info": {
   "codemirror_mode": {
    "name": "ipython",
    "version": 3
   },
   "file_extension": ".py",
   "mimetype": "text/x-python",
   "name": "python",
   "nbconvert_exporter": "python",
   "pygments_lexer": "ipython3",
   "version": "3.10.12"
  }
 },
 "nbformat": 4,
 "nbformat_minor": 5
}
