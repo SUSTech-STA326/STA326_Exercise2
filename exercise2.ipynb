{
 "cells": [
  {
   "cell_type": "code",
   "execution_count": 85,
   "id": "acd5d9b7",
   "metadata": {},
   "outputs": [],
   "source": [
    "import requests  # send request\n",
    "from bs4 import BeautifulSoup  # parse web pages\n",
    "import pandas as pd  # csv\n",
    "from time import sleep  # wait\n",
    "import numpy as np\n",
    "import matplotlib.pyplot as plt\n",
    "import seaborn as sns\n",
    "import json\n",
    "from pandas.core.frame import DataFrame"
   ]
  },
  {
   "cell_type": "code",
   "execution_count": 86,
   "id": "146001c9",
   "metadata": {},
   "outputs": [],
   "source": [
    "# <dl>\n",
    "# <dt><a name=\"item1\">[1]</a>   <span class=\"list-identifier\"><a href=\"/abs/2403.00762\" title=\"Abstract\">arXiv:2403.00762</a> [<a href=\"/pdf/2403.00762\" title=\"Download PDF\">pdf</a>, <a href=\"/format/2403.00762\" title=\"Other formats\">other</a>]</span></dt>\n",
    "# <dd>\n",
    "# <div class=\"meta\">\n",
    "# <div class=\"list-title mathjax\">\n",
    "# <span class=\"descriptor\">Title:</span> Point Could Mamba: Point Cloud Learning via State Space Model\n",
    "# </div>\n",
    "# <div class=\"list-authors\">\n",
    "# <span class=\"descriptor\">Authors:</span>\n",
    "# <a href=\"/search/cs?searchtype=author&amp;query=Zhang%2C+T\">Tao Zhang</a>, \n",
    "# <a href=\"/search/cs?searchtype=author&amp;query=Li%2C+X\">Xiangtai Li</a>, \n",
    "# <a href=\"/search/cs?searchtype=author&amp;query=Yuan%2C+H\">Haobo Yuan</a>, \n",
    "# <a href=\"/search/cs?searchtype=author&amp;query=Ji%2C+S\">Shunping Ji</a>, \n",
    "# <a href=\"/search/cs?searchtype=author&amp;query=Yan%2C+S\">Shuicheng Yan</a>\n",
    "# </div>\n",
    "# <div class=\"list-subjects\">\n",
    "# <span class=\"descriptor\">Subjects:</span> <span class=\"primary-subject\">Computer Vision and Pattern Recognition (cs.CV)</span>\n",
    "# </div>\n",
    "# </div>"
   ]
  },
  {
   "cell_type": "code",
   "execution_count": null,
   "id": "561727e0",
   "metadata": {},
   "outputs": [],
   "source": [
    "base_1=\"https://arxiv.org/list/cs/pastweek?skip=\"\n",
    "base_2=\"&show=25\"\n",
    "titles=[]\n",
    "authors=[]\n",
    "subjects=[]\n",
    "abstracts=[]\n",
    "for i in (0,25):  \n",
    "    url=base_1+str(i)+base_2\n",
    "    page=requests.get(url)\n",
    "    soup=BeautifulSoup(page.text,'html.parser')\n",
    "    paper_list=soup.find('dl')\n",
    "    for paper in paper_list.find_all('dd'):\n",
    "        title=paper.find('div',{'class':'list-title mathjax'}).text.strip()[6:]\n",
    "        titles.append(title)\n",
    "    #     print(paper.find('div',{'class':'list-title mathjax'}).text.strip()[6:])\n",
    "        list_authors=paper.find('div',{'class':'list-authors'}).find_all('a')\n",
    "    #     print(paper.find('div',{'class':'list-authors'}).find_all('a'))\n",
    "        author=[]\n",
    "        for i in range(len(list_authors)):\n",
    "            author.append(list_authors[i].text.strip())\n",
    "    #         print(list_authors[i].text.strip())\n",
    "    #         print(authors)\n",
    "        authors.append(author)\n",
    "        subject=paper.find('div',{'class':'list-subjects'}).text.strip()[9:]\n",
    "        subjects.append(subject)\n",
    "        print(paper.find('div',{'class':'list-subjects'}).text.strip()[9:])\n",
    "    for paper in paper_list.find_all('dt'):\n",
    "        base_url='https://arxiv.org'\n",
    "        url=base_url+paper.find('span').a['href']\n",
    "        page=requests.get(url)\n",
    "        soup=BeautifulSoup(page.text,'html.parser')\n",
    "        abstract=soup.find('blockquote').text[10:]\n",
    "        abstracts.append(abstract)\n",
    "    sleep(10)\n",
    "        # print(soup.find('blockquote').text[10:])\n",
    "csv_name =  \"CSpapers.csv\"\n",
    "combi={\"Title\":titles,\"Authors\":authors,'Subjects':subjects,'Abstracts':abstracts}\n",
    "CSpapers=DataFrame(combi)\n",
    "CSpapers.to_csv(csv_name,index=False)\n",
    "CSpapers.head()"
   ]
  },
  {
   "cell_type": "code",
   "execution_count": null,
   "id": "7188a032",
   "metadata": {},
   "outputs": [],
   "source": []
  }
 ],
 "metadata": {
  "kernelspec": {
   "display_name": "Python 3 (ipykernel)",
   "language": "python",
   "name": "python3"
  },
  "language_info": {
   "codemirror_mode": {
    "name": "ipython",
    "version": 3
   },
   "file_extension": ".py",
   "mimetype": "text/x-python",
   "name": "python",
   "nbconvert_exporter": "python",
   "pygments_lexer": "ipython3",
   "version": "3.10.12"
  }
 },
 "nbformat": 4,
 "nbformat_minor": 5
}
