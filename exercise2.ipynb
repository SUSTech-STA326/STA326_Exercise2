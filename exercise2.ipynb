{
 "cells": [
  {
   "cell_type": "code",
   "execution_count": 5,
   "id": "aa91f6f9",
   "metadata": {},
   "outputs": [],
   "source": [
    "# Imports\n",
    "import bs4\n",
    "import requests  # send request\n",
    "from bs4 import BeautifulSoup  # parse web pages\n",
    "import pandas as pd  # csv\n",
    "from time import sleep  # wait\n",
    "import numpy as np\n",
    "import matplotlib.pyplot as plt\n",
    "import seaborn as sns\n",
    "import json\n",
    "from tqdm import tqdm"
   ]
  },
  {
   "cell_type": "code",
   "execution_count": 6,
   "id": "5d6680ec",
   "metadata": {},
   "outputs": [],
   "source": [
    "headers = {\n",
    "    'authority': 'curlconverter.com',\n",
    "    'accept': 'text/html,application/xhtml+xml,application/xml;q=0.9,image/webp,image/apng,*/*;q=0.8,application/signed-exchange;v=b3;q=0.9',\n",
    "    'accept-language': 'zh-CN,zh;q=0.9,en;q=0.8,en-GB;q=0.7,en-US;q=0.6',\n",
    "    'cache-control': 'max-age=0',\n",
    "    'if-modified-since': 'Fri, 15 Jul 2022 21:44:42 GMT',\n",
    "    'if-none-match': 'W/\"62d1dfca-3a58\"',\n",
    "    'referer': 'https://curlconverter.com/',\n",
    "    'sec-ch-ua': '\" Not A;Brand\";v=\"99\", \"Chromium\";v=\"102\", \"Microsoft Edge\";v=\"102\"',\n",
    "    'sec-ch-ua-mobile': '?0',\n",
    "    'sec-ch-ua-platform': '\"Linux\"',\n",
    "    'sec-fetch-dest': 'document',\n",
    "    'sec-fetch-mode': 'navigate',\n",
    "    'sec-fetch-site': 'cross-site',\n",
    "    'sec-fetch-user': '?1',\n",
    "    'upgrade-insecure-requests': '1',\n",
    "    'user-agent': 'Mozilla/5.0 (X11; Linux x86_64) AppleWebKit/537.36 (KHTML, like Gecko) Chrome/102.0.5005.63 Safari/537.36 Edg/102.0.1245.30',\n",
    "}"
   ]
  },
  {
   "cell_type": "code",
   "execution_count": 7,
   "id": "81faaa19",
   "metadata": {},
   "outputs": [
    {
     "name": "stdout",
     "output_type": "stream",
     "text": [
      "<Response [200]>\n"
     ]
    },
    {
     "name": "stderr",
     "output_type": "stream",
     "text": [
      "f:\\Anaconda\\lib\\site-packages\\bs4\\builder\\__init__.py:545: XMLParsedAsHTMLWarning: It looks like you're parsing an XML document using an HTML parser. If this really is an HTML document (maybe it's XHTML?), you can ignore or filter this warning. If it's XML, you should know that using an XML parser will be more reliable. To parse this document as XML, make sure you have the lxml package installed, and pass the keyword argument `features=\"xml\"` into the BeautifulSoup constructor.\n",
      "  warnings.warn(\n"
     ]
    }
   ],
   "source": [
    "url = \"https://arxiv.org/list/cs/pastweek?skip=0&show=100\"\n",
    "page = requests.get(url,timeout = 5,headers=headers)\n",
    "print(page)\n",
    "soup = BeautifulSoup(page.text)"
   ]
  },
  {
   "cell_type": "code",
   "execution_count": 8,
   "id": "bfaf6059",
   "metadata": {},
   "outputs": [
    {
     "name": "stdout",
     "output_type": "stream",
     "text": [
      " length of title , authors and subject are 100 , 100 and 100. \n"
     ]
    }
   ],
   "source": [
    "title = []\n",
    "authors = []\n",
    "subject = []\n",
    "for link in soup.find_all('dd'):\n",
    "    for layer in link.find('div'):\n",
    "        if isinstance(layer,bs4.element.Tag):\n",
    "            temp = layer.text.strip()\n",
    "            if temp[0] == 'T':\n",
    "                title.append(temp.split('Title:')[-1])\n",
    "            elif temp[0] == 'A':\n",
    "                authors.append(temp.split('Authors:\\n')[-1])\n",
    "            elif temp[0] == 'S':\n",
    "                subject.append(temp.split('Subjects:')[-1])\n",
    "                \n",
    "print(f\" length of title , authors and subject are {len(title)} , {len(authors)} and {len(subject)}. \" )\n"
   ]
  },
  {
   "cell_type": "code",
   "execution_count": 13,
   "id": "b2e7c161",
   "metadata": {},
   "outputs": [
    {
     "name": "stderr",
     "output_type": "stream",
     "text": [
      "  0%|          | 0/100 [00:00<?, ?it/s]f:\\Anaconda\\lib\\site-packages\\bs4\\builder\\__init__.py:545: XMLParsedAsHTMLWarning: It looks like you're parsing an XML document using an HTML parser. If this really is an HTML document (maybe it's XHTML?), you can ignore or filter this warning. If it's XML, you should know that using an XML parser will be more reliable. To parse this document as XML, make sure you have the lxml package installed, and pass the keyword argument `features=\"xml\"` into the BeautifulSoup constructor.\n",
      "  warnings.warn(\n",
      "100%|██████████| 100/100 [01:05<00:00,  1.52it/s]\n"
     ]
    }
   ],
   "source": [
    "abstract_list = []\n",
    "for link in tqdm(soup.find_all('dt')):\n",
    "    for layer in link.find('span'):\n",
    "        if len(layer.string) > 5:\n",
    "            series = layer.string.split(\"arXiv:\")[-1]\n",
    "            url = \"https://arxiv.org/abs/\" + series\n",
    "            sleep(0.5)\n",
    "            page = requests.get(url,timeout = 10, headers=headers)\n",
    "            #print(page.status_code)\n",
    "            soup_spec = BeautifulSoup(page.text)\n",
    "            abstract_raw = soup_spec.find('blockquote').text.replace(\"\\n\",\"\")\n",
    "            abstract = abstract_raw.split(\"Abstract:\")[-1]\n",
    "            abstract_list.append(abstract)\n",
    "            #print(abstract)\n",
    "            \n"
   ]
  },
  {
   "cell_type": "code",
   "execution_count": 14,
   "id": "a9e28cf9",
   "metadata": {},
   "outputs": [],
   "source": [
    "d = {'Title': title, 'Author' : authors , 'Subject':subject, 'Abstract':abstract_list}\n",
    "df_final = pd.DataFrame(data=d)\n",
    "df_final.to_csv(\"./papers.csv\",index=False)\n"
   ]
  },
  {
   "cell_type": "code",
   "execution_count": 16,
   "id": "85f5705d",
   "metadata": {},
   "outputs": [
    {
     "data": {
      "text/html": [
       "<div>\n",
       "<style scoped>\n",
       "    .dataframe tbody tr th:only-of-type {\n",
       "        vertical-align: middle;\n",
       "    }\n",
       "\n",
       "    .dataframe tbody tr th {\n",
       "        vertical-align: top;\n",
       "    }\n",
       "\n",
       "    .dataframe thead th {\n",
       "        text-align: right;\n",
       "    }\n",
       "</style>\n",
       "<table border=\"1\" class=\"dataframe\">\n",
       "  <thead>\n",
       "    <tr style=\"text-align: right;\">\n",
       "      <th></th>\n",
       "      <th>Title</th>\n",
       "      <th>Author</th>\n",
       "      <th>Subject</th>\n",
       "      <th>Abstract</th>\n",
       "    </tr>\n",
       "  </thead>\n",
       "  <tbody>\n",
       "    <tr>\n",
       "      <th>0</th>\n",
       "      <td>Point Could Mamba: Point Cloud Learning via S...</td>\n",
       "      <td>Tao Zhang, \\nXiangtai Li, \\nHaobo Yuan, \\nShun...</td>\n",
       "      <td>Computer Vision and Pattern Recognition (cs.CV)</td>\n",
       "      <td>In this work, for the first time, we demonstra...</td>\n",
       "    </tr>\n",
       "    <tr>\n",
       "      <th>1</th>\n",
       "      <td>Mitigating Reversal Curse via Semantic-aware ...</td>\n",
       "      <td>Qingyan Guo, \\nRui Wang, \\nJunliang Guo, \\nXu ...</td>\n",
       "      <td>Computation and Language (cs.CL); Artificial ...</td>\n",
       "      <td>While large language models (LLMs) have achiev...</td>\n",
       "    </tr>\n",
       "    <tr>\n",
       "      <th>2</th>\n",
       "      <td>An Experimental Study of Low-Latency Video St...</td>\n",
       "      <td>Imran Khan, \\nTuyen X. Tran, \\nMatti Hiltunen,...</td>\n",
       "      <td>Multimedia (cs.MM); Performance (cs.PF)</td>\n",
       "      <td>Low-latency video streaming over 5G has become...</td>\n",
       "    </tr>\n",
       "    <tr>\n",
       "      <th>3</th>\n",
       "      <td>AtP*: An efficient and scalable method for lo...</td>\n",
       "      <td>János Kramár, \\nTom Lieberum, \\nRohin Shah, \\n...</td>\n",
       "      <td>Machine Learning (cs.LG); Computation and Lan...</td>\n",
       "      <td>Activation Patching is a method of directly co...</td>\n",
       "    </tr>\n",
       "    <tr>\n",
       "      <th>4</th>\n",
       "      <td>Neural Acceleration of Incomplete Cholesky Pr...</td>\n",
       "      <td>Joshua Dennis Booth, \\nHongyang Sun, \\nTrevor ...</td>\n",
       "      <td>Distributed, Parallel, and Cluster Computing ...</td>\n",
       "      <td>The solution of a sparse system of linear equa...</td>\n",
       "    </tr>\n",
       "  </tbody>\n",
       "</table>\n",
       "</div>"
      ],
      "text/plain": [
       "                                               Title  \\\n",
       "0   Point Could Mamba: Point Cloud Learning via S...   \n",
       "1   Mitigating Reversal Curse via Semantic-aware ...   \n",
       "2   An Experimental Study of Low-Latency Video St...   \n",
       "3   AtP*: An efficient and scalable method for lo...   \n",
       "4   Neural Acceleration of Incomplete Cholesky Pr...   \n",
       "\n",
       "                                              Author  \\\n",
       "0  Tao Zhang, \\nXiangtai Li, \\nHaobo Yuan, \\nShun...   \n",
       "1  Qingyan Guo, \\nRui Wang, \\nJunliang Guo, \\nXu ...   \n",
       "2  Imran Khan, \\nTuyen X. Tran, \\nMatti Hiltunen,...   \n",
       "3  János Kramár, \\nTom Lieberum, \\nRohin Shah, \\n...   \n",
       "4  Joshua Dennis Booth, \\nHongyang Sun, \\nTrevor ...   \n",
       "\n",
       "                                             Subject  \\\n",
       "0    Computer Vision and Pattern Recognition (cs.CV)   \n",
       "1   Computation and Language (cs.CL); Artificial ...   \n",
       "2            Multimedia (cs.MM); Performance (cs.PF)   \n",
       "3   Machine Learning (cs.LG); Computation and Lan...   \n",
       "4   Distributed, Parallel, and Cluster Computing ...   \n",
       "\n",
       "                                            Abstract  \n",
       "0  In this work, for the first time, we demonstra...  \n",
       "1  While large language models (LLMs) have achiev...  \n",
       "2  Low-latency video streaming over 5G has become...  \n",
       "3  Activation Patching is a method of directly co...  \n",
       "4  The solution of a sparse system of linear equa...  "
      ]
     },
     "execution_count": 16,
     "metadata": {},
     "output_type": "execute_result"
    }
   ],
   "source": [
    "df_1 = pd.read_csv(\"./papers.csv\")\n",
    "df_1.head(5)"
   ]
  },
  {
   "cell_type": "code",
   "execution_count": null,
   "id": "f4e9caf8",
   "metadata": {},
   "outputs": [],
   "source": []
  }
 ],
 "metadata": {
  "kernelspec": {
   "display_name": "Python 3 (ipykernel)",
   "language": "python",
   "name": "python3"
  },
  "language_info": {
   "codemirror_mode": {
    "name": "ipython",
    "version": 3
   },
   "file_extension": ".py",
   "mimetype": "text/x-python",
   "name": "python",
   "nbconvert_exporter": "python",
   "pygments_lexer": "ipython3",
   "version": "3.10.9"
  }
 },
 "nbformat": 4,
 "nbformat_minor": 5
}
