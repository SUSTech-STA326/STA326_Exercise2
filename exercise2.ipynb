{
 "cells": [
  {
   "cell_type": "code",
   "execution_count": 1,
   "id": "bdfccac0",
   "metadata": {},
   "outputs": [],
   "source": [
    "import requests\n",
    "from bs4 import BeautifulSoup\n",
    "import pandas as pd\n",
    "from tqdm import tqdm\n",
    "from requests.exceptions import Timeout\n",
    "import time"
   ]
  },
  {
   "cell_type": "code",
   "execution_count": 2,
   "id": "e0cdbbd4",
   "metadata": {},
   "outputs": [],
   "source": [
    "headers = {\n",
    "    'authority': 'curlconverter.com',\n",
    "    'accept': 'textml,application/xhtml+xml,application/xml;q=0.9,image/webp,image/apng,*/*;q=0.8,application/signed-exchange;v=b3;q=0.9',\n",
    "    'accept-language': 'zh-CN,zh;q=0.9,en;q=0.8,en-GB;q=0.7,en-US;q=0.6',\n",
    "    'cache-control': 'max-age=0',\n",
    "    'if-modified-since': 'Fri, 15 Jul 2022 21:44:42 GMT',\n",
    "    'if-none-match': 'W/\"62d1dfca-3a58\"',\n",
    "    'referer': 'https://curlconverter.com/',\n",
    "    'sec-ch-ua': '\" Not A;Brand\";v=\"99\", \"Chromium\";v=\"102\", \"Microsoft Edge\";v=\"102\"',\n",
    "    'sec-ch-ua-mobile': '?0',\n",
    "    'sec-ch-ua-platform': '\"Linux\"',\n",
    "    'sec-fetch-dest': 'document',\n",
    "    'sec-fetch-mode': 'navigate',\n",
    "    'sec-fetch-site': 'cross-site',\n",
    "    'sec-fetch-user': '?1',\n",
    "    'upgrade-insecure-requests': '1',\n",
    "    'user-agent': 'Mozilla/5.0 (X11; Linux x86_64) AppleWebKit/537.36 (KHTML, like Gecko) Chrome/102.0.5005.63 Safari/537.36 Edg/102.0.1245.30',\n",
    "}"
   ]
  },
  {
   "cell_type": "code",
   "execution_count": 3,
   "id": "51894af1",
   "metadata": {},
   "outputs": [],
   "source": [
    "url = 'https://arxiv.org/list/cs/recent?show=100'\n",
    "response = requests.get(url, headers=headers)"
   ]
  },
  {
   "cell_type": "code",
   "execution_count": 4,
   "id": "887bbe3e",
   "metadata": {},
   "outputs": [],
   "source": [
    "soup = BeautifulSoup(response.content, 'html.parser')"
   ]
  },
  {
   "cell_type": "code",
   "execution_count": 5,
   "id": "6b0c4758",
   "metadata": {},
   "outputs": [],
   "source": [
    "title_list=[]\n",
    "subjects_list=[]\n",
    "authors_list=[]\n",
    "\n",
    "infos = soup.dl.find_all('dd')\n",
    "\n",
    "for info in infos:\n",
    "    title = info.find('div', {'class': 'list-title mathjax'}).text.strip().replace('Title: ','')\n",
    "    subjects = info.find('div', {'class': 'list-subjects'}).text.strip().replace('Subjects: ','')\n",
    "    authors = info.find('div', {'class': 'list-authors'}).text.strip().replace('\\n', '').replace('Authors:','')\n",
    "    title_list.append(title)\n",
    "    subjects_list.append(subjects)\n",
    "    authors_list.append(authors)    "
   ]
  },
  {
   "cell_type": "code",
   "execution_count": 9,
   "id": "b47ee357",
   "metadata": {},
   "outputs": [
    {
     "name": "stderr",
     "output_type": "stream",
     "text": [
      "  4%|▍         | 4/100 [00:11<04:31,  2.83s/it]\n",
      " 70%|███████   | 70/100 [05:01<02:22,  4.74s/it]"
     ]
    }
   ],
   "source": [
    "abstracts_list=[]\n",
    "\n",
    "papers = soup.dl.find_all('dt')\n",
    "pbar = tqdm(total=len(papers))\n",
    "\n",
    "for paper in papers:\n",
    "    detail_link = paper.find('a', {'title': 'Abstract'})['href']\n",
    "    detail_url = f\"https://arxiv.org{detail_link}\"\n",
    "#     detail_response = requests.get(detail_url, headers=headers)\n",
    "\n",
    "#     detail_soup = BeautifulSoup(detail_response.content, 'html.parser')\n",
    "#     abstract = detail_soup.find('blockquote', {'class': 'abstract mathjax'}).text.strip().replace('\\n','')\n",
    "#     abstracts_list.append(abstract)\n",
    "#     pbar.update(1)\n",
    "#     time.sleep(3)\n",
    "    \n",
    "    try:\n",
    "        detail_response = requests.get(detail_url, headers=headers, timeout=10)\n",
    "        \n",
    "        if detail_response.status_code == 200:\n",
    "            detail_soup = BeautifulSoup(detail_response.content, 'html.parser')\n",
    "            abstract = detail_soup.find('blockquote', {'class': 'abstract mathjax'}).text.strip()\n",
    "            abstracts_list.append(abstract)\n",
    "            pbar.update(1)\n",
    "    except Timeout:\n",
    "        abstracts_list.append(\"pass\")\n",
    "        pass\n"
   ]
  },
  {
   "cell_type": "code",
   "execution_count": 7,
   "id": "b71c8eef",
   "metadata": {},
   "outputs": [],
   "source": [
    "df = pd.DataFrame({'Title': title_list, 'Subjects': subjects_list, 'Author(s)': authors_list, 'Abstract': abstracts_list})\n",
    "df.to_csv('output.csv', index=False)"
   ]
  }
 ],
 "metadata": {
  "kernelspec": {
   "display_name": "Python 3 (ipykernel)",
   "language": "python",
   "name": "python3"
  },
  "language_info": {
   "codemirror_mode": {
    "name": "ipython",
    "version": 3
   },
   "file_extension": ".py",
   "mimetype": "text/x-python",
   "name": "python",
   "nbconvert_exporter": "python",
   "pygments_lexer": "ipython3",
   "version": "3.10.12"
  }
 },
 "nbformat": 4,
 "nbformat_minor": 5
}
