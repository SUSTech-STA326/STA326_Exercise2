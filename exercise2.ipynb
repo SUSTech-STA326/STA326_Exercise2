{
 "cells": [
  {
   "cell_type": "markdown",
   "source": [
    "### Exercise 2\n",
    "#### 导入"
   ],
   "metadata": {
    "collapsed": false
   },
   "id": "28ff78848adae4f5"
  },
  {
   "cell_type": "code",
   "execution_count": 68,
   "id": "initial_id",
   "metadata": {
    "collapsed": true,
    "ExecuteTime": {
     "end_time": "2024-03-04T08:34:37.461379Z",
     "start_time": "2024-03-04T08:34:37.455755Z"
    }
   },
   "outputs": [],
   "source": [
    "# Imports\n",
    "import requests  # send request\n",
    "from bs4 import BeautifulSoup  # parse web pages\n",
    "import pandas as pd  # csv\n",
    "import time\n",
    "import random\n"
   ]
  },
  {
   "cell_type": "markdown",
   "source": [
    "#### Headers"
   ],
   "metadata": {
    "collapsed": false
   },
   "id": "ed62ef5f0e492765"
  },
  {
   "cell_type": "code",
   "outputs": [],
   "source": [
    "# Define a request header (to prevent anti-scraping)\n",
    "headers = {\n",
    "    'authority': 'curlconverter.com',\n",
    "    'accept': 'text/html,application/xhtml+xml,application/xml;q=0.9,image/webp,image/apng,*/*;q=0.8,application/signed-exchange;v=b3;q=0.9',\n",
    "    'accept-language': 'zh-CN,zh;q=0.9,en;q=0.8,en-GB;q=0.7,en-US;q=0.6',\n",
    "    'cache-control': 'max-age=0',\n",
    "    'if-modified-since': 'Fri, 15 Jul 2022 21:44:42 GMT',\n",
    "    'if-none-match': 'W/\"62d1dfca-3a58\"',\n",
    "    'referer': 'https://curlconverter.com/',\n",
    "    'sec-ch-ua': '\" Not A;Brand\";v=\"99\", \"Chromium\";v=\"102\", \"Microsoft Edge\";v=\"102\"',\n",
    "    'sec-ch-ua-mobile': '?0',\n",
    "    'sec-ch-ua-platform': '\"Linux\"',\n",
    "    'sec-fetch-dest': 'document',\n",
    "    'sec-fetch-mode': 'navigate',\n",
    "    'sec-fetch-site': 'cross-site',\n",
    "    'sec-fetch-user': '?1',\n",
    "    'upgrade-insecure-requests': '1',\n",
    "    'user-agent': 'Mozilla/5.0 (X11; Linux x86_64) AppleWebKit/537.36 (KHTML, like Gecko) Chrome/102.0.5005.63 Safari/537.36 Edg/102.0.1245.30',\n",
    "}"
   ],
   "metadata": {
    "collapsed": false,
    "ExecuteTime": {
     "end_time": "2024-03-04T08:34:37.538246Z",
     "start_time": "2024-03-04T08:34:37.531920Z"
    }
   },
   "id": "1432d7e9f2f9dfd8",
   "execution_count": 69
  },
  {
   "cell_type": "markdown",
   "source": [
    "#### 单页爬取"
   ],
   "metadata": {
    "collapsed": false
   },
   "id": "68d17e8892a6b665"
  },
  {
   "cell_type": "code",
   "outputs": [],
   "source": [
    "# # YOUR CODE HERE\n",
    "# # Step 1: Define the URL\n",
    "# url = \"https://arxiv.org/list/cs/recent\"\n",
    "# \n",
    "# # Step 2: Open the URL using requests.get() with headers\n",
    "# page = requests.get(url, headers=headers)\n",
    "# \n",
    "# # Step 3: Parse the HTML content using BeautifulSoup\n",
    "# soup = BeautifulSoup(page.content, 'lxml')"
   ],
   "metadata": {
    "collapsed": false,
    "ExecuteTime": {
     "end_time": "2024-03-04T08:34:37.546152Z",
     "start_time": "2024-03-04T08:34:37.541262Z"
    }
   },
   "id": "2dd53814e9b9b98b",
   "execution_count": 70
  },
  {
   "cell_type": "code",
   "outputs": [],
   "source": [
    "# title_list = []\n",
    "# subjects_list = []\n",
    "# authors_list = []\n",
    "# abstract_list = []\n",
    "# website_url_list = []\n",
    "# i = 1\n",
    "# for dd in soup.dl.find_all('dd'):\n",
    "#     # print(dd.prettify())\n",
    "#     title_list.append(dd.find_all('div', class_='list-title mathjax')[0].text.strip().split('Title: ')[1])\n",
    "#     subjects_list.append(dd.find_all('div', class_='list-subjects')[0].text.strip().split('Subjects: ')[1])\n",
    "#     authors_list.append(dd.find_all('div', class_='list-authors')[0].text.strip().split('Authors:\\n')[1].split(\", \\n\"))\n",
    "# \n",
    "# for dt in soup.dl.find_all('dt'):\n",
    "#     website_url_list.append(\"https://arxiv.org\" + dt.find_all('span')[0].find_all('a')[0].get('href'))\n",
    "# \n",
    "# for website_url in website_url_list:\n",
    "#     print(i)\n",
    "#     i = i + 1\n",
    "#     try:\n",
    "#         time.sleep(random.uniform(3, 5))\n",
    "#         website_page = requests.get(website_url, headers=headers)\n",
    "#         website_soup = BeautifulSoup(website_page.content, 'lxml')\n",
    "#         abstract = website_soup.find('blockquote').text.strip().split('Abstract:')[1]\n",
    "#         abstract_list.append(abstract)\n",
    "#     except Exception as e:\n",
    "#         abstract_list.append('error')\n",
    "#         print(f\"在爬取{website_url}时发生错误：{e}\")"
   ],
   "metadata": {
    "collapsed": false,
    "ExecuteTime": {
     "end_time": "2024-03-04T08:34:37.600099Z",
     "start_time": "2024-03-04T08:34:37.594823Z"
    }
   },
   "id": "c539b4d1e4fcb69c",
   "execution_count": 72
  },
  {
   "cell_type": "markdown",
   "source": [
    "#### 多页爬取"
   ],
   "metadata": {
    "collapsed": false
   },
   "id": "95a7e3fcb4152ad4"
  },
  {
   "cell_type": "code",
   "outputs": [],
   "source": [
    "title_list = []\n",
    "subjects_list = []\n",
    "authors_list = []\n",
    "abstract_list = []\n",
    "website_url_list = []"
   ],
   "metadata": {
    "collapsed": false,
    "ExecuteTime": {
     "end_time": "2024-03-04T08:34:37.657153Z",
     "start_time": "2024-03-04T08:34:37.651706Z"
    }
   },
   "id": "551cedaf3d815945",
   "execution_count": 73
  },
  {
   "cell_type": "markdown",
   "source": [
    "##### 读取网页"
   ],
   "metadata": {
    "collapsed": false
   },
   "id": "7f2a77b30f3951ac"
  },
  {
   "cell_type": "code",
   "outputs": [
    {
     "name": "stdout",
     "output_type": "stream",
     "text": [
      "1:https://arxiv.org/abs/2403.00762\n",
      "2:https://arxiv.org/abs/2403.00758\n",
      "3:https://arxiv.org/abs/2403.00752\n",
      "4:https://arxiv.org/abs/2403.00745\n",
      "5:https://arxiv.org/abs/2403.00743\n",
      "6:https://arxiv.org/abs/2403.00742\n",
      "7:https://arxiv.org/abs/2403.00737\n",
      "8:https://arxiv.org/abs/2403.00729\n",
      "9:https://arxiv.org/abs/2403.00725\n",
      "10:https://arxiv.org/abs/2403.00724\n",
      "11:https://arxiv.org/abs/2403.00720\n",
      "12:https://arxiv.org/abs/2403.00717\n",
      "13:https://arxiv.org/abs/2403.00715\n",
      "14:https://arxiv.org/abs/2403.00712\n",
      "15:https://arxiv.org/abs/2403.00704\n",
      "16:https://arxiv.org/abs/2403.00696\n",
      "17:https://arxiv.org/abs/2403.00691\n",
      "18:https://arxiv.org/abs/2403.00690\n",
      "19:https://arxiv.org/abs/2403.00689\n",
      "20:https://arxiv.org/abs/2403.00686\n",
      "21:https://arxiv.org/abs/2403.00685\n",
      "22:https://arxiv.org/abs/2403.00682\n",
      "23:https://arxiv.org/abs/2403.00680\n",
      "24:https://arxiv.org/abs/2403.00675\n",
      "25:https://arxiv.org/abs/2403.00674\n",
      "26:https://arxiv.org/abs/2403.00673\n",
      "27:https://arxiv.org/abs/2403.00669\n",
      "28:https://arxiv.org/abs/2403.00668\n",
      "29:https://arxiv.org/abs/2403.00665\n",
      "30:https://arxiv.org/abs/2403.00663\n",
      "31:https://arxiv.org/abs/2403.00662\n",
      "32:https://arxiv.org/abs/2403.00646\n",
      "33:https://arxiv.org/abs/2403.00645\n",
      "34:https://arxiv.org/abs/2403.00644\n",
      "35:https://arxiv.org/abs/2403.00643\n",
      "36:https://arxiv.org/abs/2403.00642\n",
      "37:https://arxiv.org/abs/2403.00641\n",
      "38:https://arxiv.org/abs/2403.00633\n",
      "39:https://arxiv.org/abs/2403.00632\n",
      "40:https://arxiv.org/abs/2403.00631\n",
      "41:https://arxiv.org/abs/2403.00628\n",
      "42:https://arxiv.org/abs/2403.00625\n",
      "43:https://arxiv.org/abs/2403.00623\n",
      "44:https://arxiv.org/abs/2403.00622\n",
      "45:https://arxiv.org/abs/2403.00621\n",
      "46:https://arxiv.org/abs/2403.00613\n",
      "47:https://arxiv.org/abs/2403.00611\n",
      "48:https://arxiv.org/abs/2403.00607\n",
      "49:https://arxiv.org/abs/2403.00606\n",
      "50:https://arxiv.org/abs/2403.00598\n",
      "51:https://arxiv.org/abs/2403.00594\n",
      "52:https://arxiv.org/abs/2403.00592\n",
      "53:https://arxiv.org/abs/2403.00591\n",
      "54:https://arxiv.org/abs/2403.00590\n",
      "55:https://arxiv.org/abs/2403.00587\n",
      "56:https://arxiv.org/abs/2403.00586\n",
      "57:https://arxiv.org/abs/2403.00585\n",
      "58:https://arxiv.org/abs/2403.00584\n",
      "59:https://arxiv.org/abs/2403.00582\n",
      "60:https://arxiv.org/abs/2403.00579\n",
      "61:https://arxiv.org/abs/2403.00578\n",
      "62:https://arxiv.org/abs/2403.00574\n",
      "63:https://arxiv.org/abs/2403.00573\n",
      "64:https://arxiv.org/abs/2403.00571\n",
      "65:https://arxiv.org/abs/2403.00570\n",
      "66:https://arxiv.org/abs/2403.00567\n",
      "67:https://arxiv.org/abs/2403.00566\n",
      "68:https://arxiv.org/abs/2403.00565\n",
      "69:https://arxiv.org/abs/2403.00564\n",
      "70:https://arxiv.org/abs/2403.00563\n",
      "71:https://arxiv.org/abs/2403.00561\n",
      "72:https://arxiv.org/abs/2403.00558\n",
      "73:https://arxiv.org/abs/2403.00556\n",
      "74:https://arxiv.org/abs/2403.00554\n",
      "75:https://arxiv.org/abs/2403.00553\n",
      "76:https://arxiv.org/abs/2403.00550\n",
      "77:https://arxiv.org/abs/2403.00546\n",
      "78:https://arxiv.org/abs/2403.00543\n",
      "79:https://arxiv.org/abs/2403.00542\n",
      "80:https://arxiv.org/abs/2403.00540\n",
      "81:https://arxiv.org/abs/2403.00539\n",
      "82:https://arxiv.org/abs/2403.00536\n",
      "83:https://arxiv.org/abs/2403.00529\n",
      "84:https://arxiv.org/abs/2403.00528\n",
      "85:https://arxiv.org/abs/2403.00527\n",
      "86:https://arxiv.org/abs/2403.00526\n",
      "87:https://arxiv.org/abs/2403.00522\n",
      "88:https://arxiv.org/abs/2403.00520\n",
      "89:https://arxiv.org/abs/2403.00517\n",
      "90:https://arxiv.org/abs/2403.00515\n",
      "91:https://arxiv.org/abs/2403.00514\n",
      "92:https://arxiv.org/abs/2403.00510\n",
      "93:https://arxiv.org/abs/2403.00509\n",
      "94:https://arxiv.org/abs/2403.00506\n",
      "95:https://arxiv.org/abs/2403.00504\n",
      "96:https://arxiv.org/abs/2403.00499\n",
      "97:https://arxiv.org/abs/2403.00497\n",
      "98:https://arxiv.org/abs/2403.00491\n",
      "99:https://arxiv.org/abs/2403.00489\n",
      "100:https://arxiv.org/abs/2403.00486\n"
     ]
    }
   ],
   "source": [
    "for i in range(0, 4):\n",
    "    url = \"https://arxiv.org/list/cs/pastweek?skip=\" + str(i * 25) + \"&show=25\"\n",
    "    page = requests.get(url, headers=headers)\n",
    "    soup = BeautifulSoup(page.content, 'lxml')\n",
    "    for dd in soup.dl.find_all('dd'):\n",
    "        title_list.append(dd.find_all('div', class_='list-title mathjax')[0].text.strip().split('Title: ')[1])\n",
    "        subjects_list.append(dd.find_all('div', class_='list-subjects')[0].text.strip().split('Subjects: ')[1])\n",
    "        authors_list.append(\n",
    "            dd.find_all('div', class_='list-authors')[0].text.strip().split('Authors:\\n')[1].split(\", \\n\"))\n",
    "    \n",
    "    for dt in soup.dl.find_all('dt'):\n",
    "        website_url = \"https://arxiv.org\" + dt.find_all('span')[0].find_all('a')[0].get('href')\n",
    "        website_url_list.append(website_url)\n",
    "        \n",
    "        try:\n",
    "            time.sleep(random.uniform(1, 3))\n",
    "            website_page = requests.get(website_url, headers=headers)\n",
    "            website_soup = BeautifulSoup(website_page.content, 'lxml')\n",
    "            abstract = website_soup.find('blockquote').text.strip().split('Abstract:')[1]\n",
    "            abstract_list.append(abstract)\n",
    "        except Exception as e:\n",
    "            abstract_list.append('error')\n",
    "            print(f\"在爬取{website_url}时发生错误：{e}\")"
   ],
   "metadata": {
    "collapsed": false,
    "ExecuteTime": {
     "end_time": "2024-03-04T08:39:50.805519Z",
     "start_time": "2024-03-04T08:34:37.660169Z"
    }
   },
   "id": "a693bc26c1da6315",
   "execution_count": 74
  },
  {
   "cell_type": "markdown",
   "source": [
    "##### 保存文件"
   ],
   "metadata": {
    "collapsed": false
   },
   "id": "26a3c3262aba90e8"
  },
  {
   "cell_type": "code",
   "outputs": [
    {
     "name": "stdout",
     "output_type": "stream",
     "text": [
      "DataFrame saved to ./output/CSTopic.csv\n"
     ]
    }
   ],
   "source": [
    "csv_name = \"CSTopic.csv\"\n",
    "csv_dir = \"./output\"\n",
    "file_path = f\"{csv_dir}/{csv_name}\"\n",
    "\n",
    "CS_df = pd.DataFrame({\n",
    "    'Title': title_list,\n",
    "    'Subjects': subjects_list,\n",
    "    'Authors': authors_list,\n",
    "    'Abstract': abstract_list\n",
    "})\n",
    "# print(CS_df.head())\n",
    "\n",
    "CS_df.to_csv(file_path, index=False)\n",
    "\n",
    "print(f\"DataFrame saved to {file_path}\")"
   ],
   "metadata": {
    "collapsed": false,
    "ExecuteTime": {
     "end_time": "2024-03-04T08:46:04.229914Z",
     "start_time": "2024-03-04T08:46:04.215205Z"
    }
   },
   "id": "16bb9497998bdad4",
   "execution_count": 78
  }
 ],
 "metadata": {
  "kernelspec": {
   "display_name": "Python 3",
   "language": "python",
   "name": "python3"
  },
  "language_info": {
   "codemirror_mode": {
    "name": "ipython",
    "version": 2
   },
   "file_extension": ".py",
   "mimetype": "text/x-python",
   "name": "python",
   "nbconvert_exporter": "python",
   "pygments_lexer": "ipython2",
   "version": "2.7.6"
  }
 },
 "nbformat": 4,
 "nbformat_minor": 5
}
