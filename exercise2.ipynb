{
 "cells": [
  {
   "cell_type": "code",
   "execution_count": 1,
   "id": "2b359917-8aee-4409-a17e-8a6391f14579",
   "metadata": {
    "tags": []
   },
   "outputs": [],
   "source": [
    "# Imports\n",
    "import requests  # send request\n",
    "from bs4 import BeautifulSoup  # parse web pages\n",
    "import pandas as pd  # csv\n",
    "from time import sleep  # wait\n",
    "import numpy as np\n",
    "import matplotlib.pyplot as plt\n",
    "import seaborn as sns\n",
    "from tqdm import tqdm  # 导入 tqdm\n",
    "import json"
   ]
  },
  {
   "cell_type": "code",
   "execution_count": 11,
   "id": "05d1f1c2-fe32-4c74-b576-eeb07058556b",
   "metadata": {
    "tags": []
   },
   "outputs": [],
   "source": [
    "headers = {\n",
    "    'authority': 'arxiv.org',\n",
    "    'accept': 'text/html,application/xhtml+xml,application/xml;q=0.9,image/avif,image/webp,image/apng,*/*;q=0.8,application/signed-exchange;v=b3;q=0.7',\n",
    "    'accept-language': 'zh-CN,zh;q=0.9,en;q=0.8,en-GB;q=0.7,en-US;q=0.6',\n",
    "    'cache-control': 'no-cache',\n",
    "    'sec-ch-ua': '\"Not A(Brand\";v=\"99\", \"Microsoft Edge\";v=\"121\", \"Chromium\";v=\"121\"',\n",
    "    'sec-ch-ua-mobile': '?0',\n",
    "    'sec-ch-ua-platform': '\"Windows\"',\n",
    "    'sec-fetch-dest': 'document',\n",
    "    'sec-fetch-mode': 'navigate',\n",
    "    'sec-fetch-site': 'cross-site',\n",
    "    'sec-fetch-user': '?1',\n",
    "    'upgrade-insecure-requests': '1',\n",
    "    'user-agent': 'Mozilla/5.0 (Windows NT 10.0; Win64; x64) AppleWebKit/537.36 (KHTML, like Gecko) Chrome/121.0.0.0 Safari/537.36 Edg/121.0.0.0',\n",
    "}\n",
    "\n",
    "base_url = \"https://arxiv.org/list/cs/pastweek?skip=0&show=25\"\n",
    "total_papers = 100  # 想要爬取的总论文数\n",
    "papers_per_page = 25  # 每页显示的论文数\n",
    "num_pages = int(total_papers/papers_per_page)\n",
    "page = requests.get(url, headers=headers)\n",
    "soup = BeautifulSoup(page.content, 'html.parser')"
   ]
  },
  {
   "cell_type": "code",
   "execution_count": 12,
   "id": "d31538a0-15d1-4e10-a126-451a41cead90",
   "metadata": {
    "tags": []
   },
   "outputs": [],
   "source": [
    "title_list = []\n",
    "author_list = []\n",
    "subject_list = []\n",
    "abstract_list = []"
   ]
  },
  {
   "cell_type": "code",
   "execution_count": 13,
   "id": "a4ad5d29-9376-4097-a438-9a0c8b745cbc",
   "metadata": {
    "tags": []
   },
   "outputs": [],
   "source": [
    "def extract(soup, headers):\n",
    "    articles = soup.find_all('div', class_='meta')\n",
    "    for article in articles:\n",
    "        # 提取标题并去除 \"Title:\"\n",
    "        title = article.find('div', class_='list-title mathjax').text.strip()\n",
    "        title = title.replace('Title:', '').strip()\n",
    "        title_list.append(title)\n",
    "        \n",
    "        # 提取作者\n",
    "        author = article.find('div', class_='list-authors').text.strip()\n",
    "        author = author.replace('Authors:', '').strip()\n",
    "        author_list.append(author)\n",
    "        \n",
    "        # 提取主题\n",
    "        subject = article.find('div', class_='list-subjects').text.strip()\n",
    "        subject = subject.replace('Subjects:', '').strip()\n",
    "        subject_list.append(subject)\n",
    "\n",
    "    links = soup.find_all('a', title='Abstract')\n",
    "\n",
    "    for link in tqdm(links, desc=\"提取进度\"):  # 使用 tqdm 显示提取进度\n",
    "        paper_url = \"https://arxiv.org\" + link['href']  # 构造完整的论文链接\n",
    "        paper_page = requests.get(paper_url, headers=headers)\n",
    "        paper_soup = BeautifulSoup(paper_page.content, 'html.parser')\n",
    "        abstract = paper_soup.find('blockquote', class_='abstract').text.strip()  # 提取摘要内容\n",
    "        abstract = abstract.replace('Abstract:', '').strip()\n",
    "        abstract_list.append(abstract)\n",
    "        \n",
    "    return title_list, author_list, subject_list, abstract_list"
   ]
  },
  {
   "cell_type": "code",
   "execution_count": 14,
   "id": "b1bb659c-ae61-40ff-9237-da4955de9f02",
   "metadata": {
    "tags": []
   },
   "outputs": [
    {
     "name": "stderr",
     "output_type": "stream",
     "text": [
      "提取进度: 100%|██████████████████████████████████████████| 25/25 [00:27<00:00,  1.11s/it]\n",
      "提取进度: 100%|██████████████████████████████████████████| 25/25 [00:28<00:00,  1.16s/it]\n",
      "提取进度: 100%|██████████████████████████████████████████| 25/25 [00:27<00:00,  1.09s/it]\n",
      "提取进度: 100%|██████████████████████████████████████████| 25/25 [00:29<00:00,  1.19s/it]\n"
     ]
    }
   ],
   "source": [
    "for page_num in range(num_pages):\n",
    "    url = f\"{base_url}&skip={page_num * 25}\"\n",
    "    response = requests.get(url)\n",
    "    if response.status_code == 200: \n",
    "        soup = BeautifulSoup(response.content, 'html.parser')\n",
    "        extract(soup, headers)\n",
    "    else:\n",
    "        print(f\"Failed to fetch page {page_num + 1}\")"
   ]
  },
  {
   "cell_type": "code",
   "execution_count": 15,
   "id": "c3b10280-66d1-4847-a95c-cdbb56a1b7b3",
   "metadata": {
    "tags": []
   },
   "outputs": [],
   "source": [
    "data = {'Title': title_list,'Subject': subject_list,'Author': author_list,'Abstract': abstract_list}\n",
    "df = pd.DataFrame(data)\n",
    "df.to_csv('output.csv', index=False)"
   ]
  },
  {
   "cell_type": "code",
   "execution_count": null,
   "id": "ec67c08b-38bf-41b6-bd7b-a56f2b6a900e",
   "metadata": {},
   "outputs": [],
   "source": []
  }
 ],
 "metadata": {
  "kernelspec": {
   "display_name": "Python 3 (ipykernel)",
   "language": "python",
   "name": "python3"
  },
  "language_info": {
   "codemirror_mode": {
    "name": "ipython",
    "version": 3
   },
   "file_extension": ".py",
   "mimetype": "text/x-python",
   "name": "python",
   "nbconvert_exporter": "python",
   "pygments_lexer": "ipython3",
   "version": "3.11.5"
  }
 },
 "nbformat": 4,
 "nbformat_minor": 5
}
