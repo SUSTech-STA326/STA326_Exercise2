{
 "cells": [
  {
   "cell_type": "code",
   "execution_count": 1,
   "id": "9be2471304fea2f5",
   "metadata": {
    "ExecuteTime": {
     "end_time": "2024-03-04T07:28:57.786273Z",
     "start_time": "2024-03-04T07:28:57.778315Z"
    },
    "collapsed": false,
    "jupyter": {
     "outputs_hidden": false
    }
   },
   "outputs": [],
   "source": [
    "headers = {\n",
    "    'authority': 'curlconverter.com',\n",
    "    'accept': 'text/html,application/xhtml+xml,application/xml;q=0.9,image/webp,image/apng,*/*;q=0.8,application/signed-exchange;v=b3;q=0.9',\n",
    "    'accept-language': 'zh-CN,zh;q=0.9,en;q=0.8,en-GB;q=0.7,en-US;q=0.6',\n",
    "    'cache-control': 'max-age=0',\n",
    "    'if-modified-since': 'Fri, 15 Jul 2022 21:44:42 GMT',\n",
    "    'if-none-match': 'W/\"62d1dfca-3a58\"',\n",
    "    'referer': 'https://curlconverter.com/',\n",
    "    'sec-ch-ua': '\" Not A;Brand\";v=\"99\", \"Chromium\";v=\"102\", \"Microsoft Edge\";v=\"102\"',\n",
    "    'sec-ch-ua-mobile': '?0',\n",
    "    'sec-ch-ua-platform': '\"Linux\"',\n",
    "    'sec-fetch-dest': 'document',\n",
    "    'sec-fetch-mode': 'navigate',\n",
    "    'sec-fetch-site': 'cross-site',\n",
    "    'sec-fetch-user': '?1',\n",
    "    'upgrade-insecure-requests': '1',\n",
    "    'user-agent': 'Mozilla/5.0 (Macintosh; Intel Mac OS X 10_15_7) AppleWebKit/537.36 (KHTML, like Gecko) Chrome/121.0.0.0 Safari/537.36',\n",
    "}"
   ]
  },
  {
   "cell_type": "code",
   "execution_count": 2,
   "id": "4a34ff04-56b1-4360-9721-3ac639d44070",
   "metadata": {
    "ExecuteTime": {
     "end_time": "2024-03-04T07:31:38.290894Z",
     "start_time": "2024-03-04T07:30:21.474581Z"
    },
    "scrolled": true
   },
   "outputs": [
    {
     "name": "stdout",
     "output_type": "stream",
     "text": [
      "Status Code for skip 0: 200\n",
      "Status Code for skip 5: 200\n",
      "Status Code for skip 10: 200\n",
      "Status Code for skip 15: 200\n",
      "Status Code for skip 20: 200\n",
      "Status Code for skip 25: 200\n",
      "Status Code for skip 30: 200\n",
      "Status Code for skip 35: 200\n",
      "Status Code for skip 40: 200\n",
      "Status Code for skip 45: 200\n",
      "Status Code for skip 50: 200\n",
      "Status Code for skip 55: 200\n",
      "Status Code for skip 60: 200\n",
      "Status Code for skip 65: 200\n",
      "Status Code for skip 70: 200\n",
      "Status Code for skip 75: 200\n",
      "Status Code for skip 80: 200\n",
      "Status Code for skip 85: 200\n",
      "Status Code for skip 90: 200\n",
      "Status Code for skip 95: 200\n"
     ]
    }
   ],
   "source": [
    "import time\n",
    "\n",
    "import requests\n",
    "from bs4 import BeautifulSoup\n",
    "import csv\n",
    "\n",
    "# The base URL for the arXiv website\n",
    "base_url = \"https://arxiv.org\"\n",
    "papers_details = []\n",
    "for skip in range(0, 100, 5):\n",
    "    # Update list_url with the current skip value\n",
    "    list_url = f\"{base_url}/list/cs/pastweek?skip={skip}&show=5\"\n",
    "    try:\n",
    "        response = requests.get(list_url, headers=headers, timeout=200)  # Set a reasonable timeout, e.g., 200 seconds\n",
    "        print(f\"Status Code for skip {skip}: {response.status_code}\")\n",
    "        if response.status_code == 200:\n",
    "            soup = BeautifulSoup(response.text, \"html.parser\")\n",
    "            spans = soup.find_all('span', class_='list-identifier')\n",
    "            # Iterate over the spans to extract the links and IDs\n",
    "            for span in spans:\n",
    "                a_tag = span.find('a')\n",
    "                if a_tag and a_tag.text.startswith('arXiv:'):\n",
    "                    # Extract the paper ID and link to the abstract\n",
    "                    paper_id = a_tag.text\n",
    "                    paper_link = f\"{base_url}{a_tag['href']}\"\n",
    "            \n",
    "                    # Send a request to the paper's abstract page\n",
    "                    paper_response = requests.get(paper_link)\n",
    "                    paper_soup = BeautifulSoup(paper_response.text, \"html.parser\")\n",
    "            \n",
    "                    # Extract title, subjects, authors, and abstract from the paper's page\n",
    "            \n",
    "                    # Adjusted to use the correct class name for the title\n",
    "                    title_element = paper_soup.find('h1', class_='title mathjax')\n",
    "                    if title_element:\n",
    "                        # The title is the text node that follows the descriptor span\n",
    "                        title = title_element.get_text(separator=\" \", strip=True).replace('Title:', '').strip()\n",
    "                    else:\n",
    "                        title = 'Title not found'\n",
    "            \n",
    "                    # 查找带有 'abstract' 类的 <blockquote> 元素\n",
    "                    abstract_element = paper_soup.find('blockquote', class_='abstract mathjax')\n",
    "                    # 确保找到了 <blockquote> 元素\n",
    "                    if abstract_element:\n",
    "                        # 找到并定位摘要的 <span> 描述符标签\n",
    "                        descriptor_span = abstract_element.find('span', class_='descriptor')\n",
    "                        # 确保找到了 <span> 标签\n",
    "                        if descriptor_span:\n",
    "                            # 提取 <span> 标签后的所有文本\n",
    "                            abstract = descriptor_span.find_next_sibling(string=True).strip()\n",
    "                        else:\n",
    "                            abstract = 'Descriptor not found'\n",
    "                    else:\n",
    "                        abstract = 'Abstract not found'\n",
    "            \n",
    "                    # Adjusted to use the correct class name for the authors\n",
    "                    authors_element = paper_soup.find('div', class_='authors')\n",
    "                    # Extract all author names, which are in multiple <a> tags\n",
    "                    if authors_element:\n",
    "                        author_names = [a_tag.text for a_tag in authors_element.find_all('a')]\n",
    "                        authors = ', '.join(author_names)\n",
    "                    else:\n",
    "                        authors = 'Authors not found'\n",
    "            \n",
    "                    # 先定位到含有主题信息的 <td> 标签\n",
    "                    subjects_td = paper_soup.find('td', class_='tablecell subjects')\n",
    "                    # 在这个 <td> 标签内部，找到所有的 <span> 标签\n",
    "                    subjects_span = subjects_td.find('span', class_='primary-subject') if subjects_td else None\n",
    "            \n",
    "                    if subjects_span:\n",
    "                        # The subjects are the text node that follows the descriptor span\n",
    "                        subjects = subjects_span.get_text(separator=\" \", strip=True)\n",
    "                    else:\n",
    "                        subjects = 'Subjects not found'\n",
    "            \n",
    "                    # Store the details in the list\n",
    "                    papers_details.append([title, subjects, authors, abstract])\n",
    "                time.sleep(1)\n",
    "            \n",
    "        else:\n",
    "            print(f\"Failed to retrieve data for skip={skip}. Status code: {response.status_code}\")\n",
    "    except requests.exceptions.RequestException as e:\n",
    "        print(f\"Request failed for skip={skip}: {e}\")\n",
    "    \n",
    "    # Respectful crawling - adjust the sleep time as needed\n",
    "    time.sleep(1)  # Sleep for 1 second between requests to avoid overwhelming the server\n",
    "\n"
   ]
  },
  {
   "cell_type": "code",
   "execution_count": null,
   "id": "133a207e-f2c5-4ff5-93a9-e5d35d22982a",
   "metadata": {},
   "outputs": [],
   "source": [
    "with open('./papers.csv', mode='w', newline='', encoding='utf-8') as file:\n",
    "    writer = csv.writer(file)\n",
    "    writer.writerow(['Title', 'Subjects', 'Authors', 'Abstract'])\n",
    "    for paper in papers_details:\n",
    "        writer.writerow(paper)"
   ]
  }
 ],
 "metadata": {
  "kernelspec": {
   "display_name": "Python 3 (ipykernel)",
   "language": "python",
   "name": "python3"
  },
  "language_info": {
   "codemirror_mode": {
    "name": "ipython",
    "version": 3
   },
   "file_extension": ".py",
   "mimetype": "text/x-python",
   "name": "python",
   "nbconvert_exporter": "python",
   "pygments_lexer": "ipython3",
   "version": "3.11.5"
  }
 },
 "nbformat": 4,
 "nbformat_minor": 5
}
