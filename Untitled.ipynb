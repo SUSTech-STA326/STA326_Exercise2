{
 "cells": [
  {
   "cell_type": "code",
   "execution_count": 1,
   "id": "d9b810e3",
   "metadata": {},
   "outputs": [],
   "source": [
    "import requests\n",
    "from bs4 import BeautifulSoup\n",
    "import csv\n",
    "\n"
   ]
  },
  {
   "cell_type": "code",
   "execution_count": 2,
   "id": "1fa468e5",
   "metadata": {},
   "outputs": [],
   "source": [
    "def get_paper_details(url):\n",
    "    response = requests.get(url)\n",
    "    soup = BeautifulSoup(response.text, 'html.parser')\n",
    "    title = soup.find('h1', class_='title mathjax').text.strip()\n",
    "    subjects = [subject.text.strip() for subject in soup.find_all('span', class_='primary-subject')]\n",
    "    authors = [author.text.strip() for author in soup.find_all('div', class_='authors')]\n",
    "    abstract = soup.find('blockquote', class_='abstract mathjax').text.strip()\n",
    "    return title, ', '.join(subjects), ', '.join(authors), abstract"
   ]
  },
  {
   "cell_type": "code",
   "execution_count": 4,
   "id": "de9e1551",
   "metadata": {},
   "outputs": [],
   "source": [
    "response = requests.get('https://arxiv.org/list/cs/pastweek?skip=0&show=100')\n",
    "soup = BeautifulSoup(response.text, 'html.parser')\n",
    "abstract = [subject.text.strip() for subject in soup.find_all('span', class_='list-identifier')]\n",
    "# authors = [author.text.strip() for author in soup.find_all('div', class_='authors')]\n",
    "# abstract = soup.find('blockquote', class_='abstract mathjax').text.strip()\n",
    "abstract\n",
    "import re\n",
    "cleaned_papers = [re.search(r'(\\d+\\.\\d+)', paper).group(0) for paper in abstract]"
   ]
  },
  {
   "cell_type": "code",
   "execution_count": 27,
   "id": "c6acf57b",
   "metadata": {},
   "outputs": [],
   "source": [
    "papers = []"
   ]
  },
  {
   "cell_type": "code",
   "execution_count": 93,
   "id": "5806807d",
   "metadata": {},
   "outputs": [
    {
     "data": {
      "text/plain": [
       "59"
      ]
     },
     "execution_count": 93,
     "metadata": {},
     "output_type": "execute_result"
    }
   ],
   "source": [
    "import time\n",
    "import random"
   ]
  },
  {
   "cell_type": "code",
   "execution_count": 108,
   "id": "5c1195f3",
   "metadata": {},
   "outputs": [
    {
     "name": "stdout",
     "output_type": "stream",
     "text": [
      "96\n",
      "yes\n",
      "yes\n",
      "yes\n",
      "yes\n"
     ]
    }
   ],
   "source": [
    "print(len(papers))\n",
    "base_url = 'https://arxiv.org'\n",
    "for i in range(len(papers),100):  # Scraping the first 100 papers\n",
    "    url = f'{base_url}/abs/{cleaned_papers[i]}'\n",
    "    a = get_paper_details(url)\n",
    "    papers.append(a)\n",
    "    print('yes')\n",
    "    time.sleep(2)\n",
    "    \n",
    "#这里yes卡住了就停止重新运行,直到100"
   ]
  },
  {
   "cell_type": "code",
   "execution_count": 112,
   "id": "82c6148e",
   "metadata": {},
   "outputs": [
    {
     "name": "stdout",
     "output_type": "stream",
     "text": [
      "100\n"
     ]
    }
   ],
   "source": [
    "print(len(papers))"
   ]
  },
  {
   "cell_type": "code",
   "execution_count": 110,
   "id": "8de75b5d",
   "metadata": {},
   "outputs": [],
   "source": [
    "def save_to_csv(data, filename):\n",
    "    with open(filename, 'w', newline='', encoding='utf-8') as csvfile:\n",
    "        writer = csv.writer(csvfile)\n",
    "        writer.writerow(['Title', 'Subjects', 'Authors', 'Abstract'])\n",
    "        writer.writerows(data)\n",
    "\n",
    "\n"
   ]
  },
  {
   "cell_type": "code",
   "execution_count": 113,
   "id": "26b38910",
   "metadata": {},
   "outputs": [
    {
     "name": "stdout",
     "output_type": "stream",
     "text": [
      "Data saved to arxiv_cs_papers.csv\n"
     ]
    }
   ],
   "source": [
    "save_to_csv(papers, 'arxiv_cs_papers.csv')\n",
    "print(\"Data saved to arxiv_cs_papers.csv\")"
   ]
  }
 ],
 "metadata": {
  "kernelspec": {
   "display_name": "Python 3 (ipykernel)",
   "language": "python",
   "name": "python3"
  },
  "language_info": {
   "codemirror_mode": {
    "name": "ipython",
    "version": 3
   },
   "file_extension": ".py",
   "mimetype": "text/x-python",
   "name": "python",
   "nbconvert_exporter": "python",
   "pygments_lexer": "ipython3",
   "version": "3.10.12"
  }
 },
 "nbformat": 4,
 "nbformat_minor": 5
}
