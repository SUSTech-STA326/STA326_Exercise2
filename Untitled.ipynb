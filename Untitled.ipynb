{
 "cells": [
  {
   "cell_type": "code",
   "execution_count": 1,
   "id": "b624d537",
   "metadata": {},
   "outputs": [],
   "source": [
    "import requests\n",
    "import pandas as pd\n",
    "from bs4 import BeautifulSoup\n",
    "import time\n",
    "author = []\n",
    "title = []\n",
    "subject = []\n",
    "abstract = []\n",
    "web = []\n",
    "for i in range(0, 76, 25):\n",
    "    url = f'https://arxiv.org/list/cs/pastweek?skip={i}&show=25'\n",
    "    r = requests.get(url)\n",
    "    r.raise_for_status()\n",
    "    soup = BeautifulSoup(r.text)\n",
    "    for i in soup.select(\"#dlpage > dl > dd > div > div.list-title.mathjax \"):\n",
    "        title.append(i.get_text().replace('Title: ', \"\").replace('\\n', ''))\n",
    "    for i in soup.select(\"#dlpage > dl > dd > div > div.list-authors\"):\n",
    "        author.append(i.get_text().replace('Authors:', \"\").replace('\\n', ''))\n",
    "    for i in soup.select(\"#dlpage > dl > dd > div > div.list-subjects\"):\n",
    "        subject.append(i.get_text().replace(\"Subjects:\", \"\").replace('\\n', '').strip())\n",
    "    for i in soup.select('#dlpage > dl > dt > span > a:nth-child(1)'):\n",
    "        web.append('https://arxiv.org'+ i.attrs['href'])\n",
    "    time.sleep(1)\n",
    "    #处理摘要\n",
    "for website in web:\n",
    "    r = requests.get(website,timeout=7)\n",
    "    r.raise_for_status()\n",
    "    soup = BeautifulSoup(r.text)\n",
    "    for i in soup.select('#abs > blockquote'):\n",
    "        abstract.append(i.get_text().replace('Abstract:','').replace(\"\\n\",\"\"))\n",
    "df = pd.DataFrame({'title':title,'author':author,'subject':subject,'abstract':abstract})\n",
    "\n",
    "df.to_csv('papers.csv', encoding='utf-8',index=0)"
   ]
  },
  {
   "cell_type": "code",
   "execution_count": null,
   "id": "043b7c55",
   "metadata": {},
   "outputs": [],
   "source": []
  }
 ],
 "metadata": {
  "kernelspec": {
   "display_name": "Python 3 (ipykernel)",
   "language": "python",
   "name": "python3"
  },
  "language_info": {
   "codemirror_mode": {
    "name": "ipython",
    "version": 3
   },
   "file_extension": ".py",
   "mimetype": "text/x-python",
   "name": "python",
   "nbconvert_exporter": "python",
   "pygments_lexer": "ipython3",
   "version": "3.10.12"
  }
 },
 "nbformat": 4,
 "nbformat_minor": 5
}
