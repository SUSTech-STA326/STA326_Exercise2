{
 "cells": [
  {
   "cell_type": "code",
   "execution_count": 54,
   "id": "initial_id",
   "metadata": {
    "collapsed": true,
    "ExecuteTime": {
     "end_time": "2024-03-04T07:44:48.511044Z",
     "start_time": "2024-03-04T07:44:48.507729Z"
    }
   },
   "outputs": [],
   "source": [
    "import requests\n",
    "from bs4 import BeautifulSoup\n",
    "import csv\n",
    "import pandas as pd\n",
    "from time import sleep\n",
    "from tqdm import tqdm"
   ]
  },
  {
   "cell_type": "code",
   "execution_count": 55,
   "outputs": [],
   "source": [
    "headers = {\n",
    "    'authority': 'curlconverter.com',\n",
    "    'accept': 'text/html,application/xhtml+xml,application/xml;q=0.9,image/webp,image/apng,*/*;q=0.8,application/signed-exchange;v=b3;q=0.9',\n",
    "    'accept-language': 'zh-CN,zh;q=0.9,en;q=0.8,en-GB;q=0.7,en-US;q=0.6',\n",
    "    'cache-control': 'max-age=0',\n",
    "    'if-modified-since': 'Fri, 15 Jul 2022 21:44:42 GMT',\n",
    "    'if-none-match': 'W/\"62d1dfca-3a58\"',\n",
    "    'referer': 'https://curlconverter.com/',\n",
    "    'sec-ch-ua': '\" Not A;Brand\";v=\"99\", \"Chromium\";v=\"102\", \"Microsoft Edge\";v=\"102\"',\n",
    "    'sec-ch-ua-mobile': '?0',\n",
    "    'sec-ch-ua-platform': '\"Linux\"',\n",
    "    'sec-fetch-dest': 'document',\n",
    "    'sec-fetch-mode': 'navigate',\n",
    "    'sec-fetch-site': 'cross-site',\n",
    "    'sec-fetch-user': '?1',\n",
    "    'upgrade-insecure-requests': '1',\n",
    "    'user-agent': 'Mozilla/5.0 (X11; Linux x86_64) AppleWebKit/537.36 (KHTML, like Gecko) Chrome/102.0.5005.63 Safari/537.36 Edg/102.0.1245.30',\n",
    "}"
   ],
   "metadata": {
    "collapsed": false,
    "ExecuteTime": {
     "end_time": "2024-03-04T07:44:48.543501Z",
     "start_time": "2024-03-04T07:44:48.512853Z"
    }
   },
   "id": "bb1e7b61e9dc747"
  },
  {
   "cell_type": "code",
   "execution_count": 56,
   "outputs": [
    {
     "name": "stderr",
     "output_type": "stream",
     "text": [
      "Processing pages: 100%|██████████| 4/4 [00:10<00:00,  2.74s/page]"
     ]
    },
    {
     "name": "stdout",
     "output_type": "stream",
     "text": [
      "['/abs/2403.00762', '/abs/2403.00758', '/abs/2403.00752', '/abs/2403.00745', '/abs/2403.00743', '/abs/2403.00742', '/abs/2403.00737', '/abs/2403.00729', '/abs/2403.00725', '/abs/2403.00724', '/abs/2403.00720', '/abs/2403.00717', '/abs/2403.00715', '/abs/2403.00712', '/abs/2403.00704', '/abs/2403.00696', '/abs/2403.00691', '/abs/2403.00690', '/abs/2403.00689', '/abs/2403.00686', '/abs/2403.00685', '/abs/2403.00682', '/abs/2403.00680', '/abs/2403.00675', '/abs/2403.00674', '/abs/2403.00673', '/abs/2403.00669', '/abs/2403.00668', '/abs/2403.00665', '/abs/2403.00663', '/abs/2403.00662', '/abs/2403.00646', '/abs/2403.00645', '/abs/2403.00644', '/abs/2403.00643', '/abs/2403.00642', '/abs/2403.00641', '/abs/2403.00633', '/abs/2403.00632', '/abs/2403.00631', '/abs/2403.00628', '/abs/2403.00625', '/abs/2403.00623', '/abs/2403.00622', '/abs/2403.00621', '/abs/2403.00613', '/abs/2403.00611', '/abs/2403.00607', '/abs/2403.00606', '/abs/2403.00598', '/abs/2403.00594', '/abs/2403.00592', '/abs/2403.00591', '/abs/2403.00590', '/abs/2403.00587', '/abs/2403.00586', '/abs/2403.00585', '/abs/2403.00584', '/abs/2403.00582', '/abs/2403.00579', '/abs/2403.00578', '/abs/2403.00574', '/abs/2403.00573', '/abs/2403.00571', '/abs/2403.00570', '/abs/2403.00567', '/abs/2403.00566', '/abs/2403.00565', '/abs/2403.00564', '/abs/2403.00563', '/abs/2403.00561', '/abs/2403.00558', '/abs/2403.00556', '/abs/2403.00554', '/abs/2403.00553', '/abs/2403.00550', '/abs/2403.00546', '/abs/2403.00543', '/abs/2403.00542', '/abs/2403.00540', '/abs/2403.00539', '/abs/2403.00536', '/abs/2403.00529', '/abs/2403.00528', '/abs/2403.00527', '/abs/2403.00526', '/abs/2403.00522', '/abs/2403.00520', '/abs/2403.00517', '/abs/2403.00515', '/abs/2403.00514', '/abs/2403.00510', '/abs/2403.00509', '/abs/2403.00506', '/abs/2403.00504', '/abs/2403.00499', '/abs/2403.00497', '/abs/2403.00491', '/abs/2403.00489', '/abs/2403.00486']\n"
     ]
    },
    {
     "name": "stderr",
     "output_type": "stream",
     "text": [
      "\n"
     ]
    }
   ],
   "source": [
    "# 提取Link\n",
    "def extract_paper_links(url):\n",
    "    paper_links = []\n",
    "    page = requests.get(url, headers=headers)\n",
    "    soup = BeautifulSoup(page.text, 'html.parser')\n",
    "    # 找到所有 <dt> 标签\n",
    "    dt_tags = soup.find_all('dt')\n",
    "    # 提取链接\n",
    "    for dt_tag in dt_tags:\n",
    "        a_tag = dt_tag.find('a', title='Abstract')\n",
    "        if a_tag and 'href' in a_tag.attrs:\n",
    "            link = a_tag.get('href')\n",
    "            paper_links.append(link)            \n",
    "    return paper_links\n",
    "\n",
    "urls = []\n",
    "for skip in range(0, 76, 25):\n",
    "    url = f'https://arxiv.org/list/cs/pastweek?skip={skip}&show=25'\n",
    "    urls.append(url)\n",
    "\n",
    "all_paper_links = []\n",
    "for url in tqdm(urls, desc=\"Processing pages\", unit=\"page\"):\n",
    "    paper_links = extract_paper_links(url)\n",
    "    all_paper_links.extend(paper_links)\n",
    "    sleep(1)\n",
    "\n",
    "# 打印所有链接\n",
    "print(all_paper_links)"
   ],
   "metadata": {
    "collapsed": false,
    "ExecuteTime": {
     "end_time": "2024-03-04T07:44:59.546611Z",
     "start_time": "2024-03-04T07:44:48.517428Z"
    }
   },
   "id": "72d225cf3f492ac7"
  },
  {
   "cell_type": "code",
   "execution_count": 57,
   "outputs": [],
   "source": [
    "# 打开新的link\n",
    "def extract_content(url):\n",
    "    page = requests.get(url, headers=headers)\n",
    "    soup = BeautifulSoup(page.text, 'html.parser')\n",
    "    abs_div = soup.find('div', id='abs')\n",
    "    \n",
    "    # 提取标题\n",
    "    title = \"\"\n",
    "    title_tag = abs_div.find('h1', class_='title mathjax')\n",
    "    if title_tag:\n",
    "        title = title_tag.text.strip().replace(\"Title:\", \"\").strip()\n",
    "    \n",
    "    # 提取作者\n",
    "    authors_list = []\n",
    "    authors_div = abs_div.find('div', class_='authors')\n",
    "    if authors_div:\n",
    "        for author_tag in authors_div.find_all('a'):\n",
    "            authors_list.append(author_tag.text.strip())\n",
    "    \n",
    "    # 提取摘要\n",
    "    abstract = \"\"\n",
    "    abstract_blockquote = abs_div.find('blockquote', class_='abstract mathjax')\n",
    "    if abstract_blockquote:\n",
    "        abstract = abstract_blockquote.text.strip().replace(\"Abstract:\", \"\").strip()\n",
    "    \n",
    "    # 提取领域    \n",
    "    subject = \"\"\n",
    "    subjects_td = abs_div.find('td', class_='tablecell subjects')\n",
    "    if subjects_td:\n",
    "        subject = subjects_td.find('span', class_='primary-subject').text.strip()\n",
    "\n",
    "    return title, subject, \", \".join(authors_list), abstract"
   ],
   "metadata": {
    "collapsed": false,
    "ExecuteTime": {
     "end_time": "2024-03-04T07:44:59.547086Z",
     "start_time": "2024-03-04T07:44:59.515604Z"
    }
   },
   "id": "2534a6343a14fd9c"
  },
  {
   "cell_type": "code",
   "execution_count": 58,
   "outputs": [
    {
     "name": "stderr",
     "output_type": "stream",
     "text": [
      "Processing papers: 100%|██████████| 100/100 [02:35<00:00,  1.56s/paper]\n"
     ]
    },
    {
     "data": {
      "text/plain": "                                                Title  \\\n0   Point Could Mamba: Point Cloud Learning via St...   \n1   Mitigating Reversal Curse via Semantic-aware P...   \n2   An Experimental Study of Low-Latency Video Str...   \n3   AtP*: An efficient and scalable method for loc...   \n4   Neural Acceleration of Incomplete Cholesky Pre...   \n..                                                ...   \n95  Do Zombies Understand? A Choose-Your-Own-Adven...   \n96  Graph Homomorphism, Monotone Classes and Bound...   \n97  Analyzing Divergence for Nondeterministic Prob...   \n98  Multiple Ways of Working with Users to Develop...   \n99  Selective-Stereo: Adaptive Frequency Informati...   \n\n                                             Subjects  \\\n0     Computer Vision and Pattern Recognition (cs.CV)   \n1                    Computation and Language (cs.CL)   \n2                                  Multimedia (cs.MM)   \n3                            Machine Learning (cs.LG)   \n4   Distributed, Parallel, and Cluster Computing (...   \n..                                                ...   \n95                   Computation and Language (cs.CL)   \n96                   Computational Complexity (cs.CC)   \n97                  Logic in Computer Science (cs.LO)   \n98                 Human-Computer Interaction (cs.HC)   \n99    Computer Vision and Pattern Recognition (cs.CV)   \n\n                                              Authors  \\\n0   Tao Zhang, Xiangtai Li, Haobo Yuan, Shunping J...   \n1   Qingyan Guo, Rui Wang, Junliang Guo, Xu Tan, J...   \n2   Imran Khan, Tuyen X. Tran, Matti Hiltunen, The...   \n3   János Kramár, Tom Lieberum, Rohin Shah, Neel N...   \n4   Joshua Dennis Booth, Hongyang Sun, Trevor Garnett   \n..                                                ...   \n95                 Ariel Goldstein, Gabriel Stanovsky   \n96  Tala Eagling-Vose, Barnaby Martin, Daniel Paul...   \n97   Hao Wu, Yuxi Fu, Huan Long, Xian Xu, Wenbo Zhang   \n98  Amal Nanavati, Max Pascher, Vinitha Ranganeni,...   \n99         Xianqi Wang, Gangwei Xu, Hao Jia, Xin Yang   \n\n                                             Abstract  \n0   In this work, for the first time, we demonstra...  \n1   While large language models (LLMs) have achiev...  \n2   Low-latency video streaming over 5G has become...  \n3   Activation Patching is a method of directly co...  \n4   The solution of a sparse system of linear equa...  \n..                                                ...  \n95  Recent advances in LLMs have sparked a debate ...  \n96  A recent paper describes a framework for study...  \n97  Branching and weak probabilistic bisimilaritie...  \n98  Despite the growth of physically assistive rob...  \n99  Stereo matching methods based on iterative opt...  \n\n[100 rows x 4 columns]",
      "text/html": "<div>\n<style scoped>\n    .dataframe tbody tr th:only-of-type {\n        vertical-align: middle;\n    }\n\n    .dataframe tbody tr th {\n        vertical-align: top;\n    }\n\n    .dataframe thead th {\n        text-align: right;\n    }\n</style>\n<table border=\"1\" class=\"dataframe\">\n  <thead>\n    <tr style=\"text-align: right;\">\n      <th></th>\n      <th>Title</th>\n      <th>Subjects</th>\n      <th>Authors</th>\n      <th>Abstract</th>\n    </tr>\n  </thead>\n  <tbody>\n    <tr>\n      <th>0</th>\n      <td>Point Could Mamba: Point Cloud Learning via St...</td>\n      <td>Computer Vision and Pattern Recognition (cs.CV)</td>\n      <td>Tao Zhang, Xiangtai Li, Haobo Yuan, Shunping J...</td>\n      <td>In this work, for the first time, we demonstra...</td>\n    </tr>\n    <tr>\n      <th>1</th>\n      <td>Mitigating Reversal Curse via Semantic-aware P...</td>\n      <td>Computation and Language (cs.CL)</td>\n      <td>Qingyan Guo, Rui Wang, Junliang Guo, Xu Tan, J...</td>\n      <td>While large language models (LLMs) have achiev...</td>\n    </tr>\n    <tr>\n      <th>2</th>\n      <td>An Experimental Study of Low-Latency Video Str...</td>\n      <td>Multimedia (cs.MM)</td>\n      <td>Imran Khan, Tuyen X. Tran, Matti Hiltunen, The...</td>\n      <td>Low-latency video streaming over 5G has become...</td>\n    </tr>\n    <tr>\n      <th>3</th>\n      <td>AtP*: An efficient and scalable method for loc...</td>\n      <td>Machine Learning (cs.LG)</td>\n      <td>János Kramár, Tom Lieberum, Rohin Shah, Neel N...</td>\n      <td>Activation Patching is a method of directly co...</td>\n    </tr>\n    <tr>\n      <th>4</th>\n      <td>Neural Acceleration of Incomplete Cholesky Pre...</td>\n      <td>Distributed, Parallel, and Cluster Computing (...</td>\n      <td>Joshua Dennis Booth, Hongyang Sun, Trevor Garnett</td>\n      <td>The solution of a sparse system of linear equa...</td>\n    </tr>\n    <tr>\n      <th>...</th>\n      <td>...</td>\n      <td>...</td>\n      <td>...</td>\n      <td>...</td>\n    </tr>\n    <tr>\n      <th>95</th>\n      <td>Do Zombies Understand? A Choose-Your-Own-Adven...</td>\n      <td>Computation and Language (cs.CL)</td>\n      <td>Ariel Goldstein, Gabriel Stanovsky</td>\n      <td>Recent advances in LLMs have sparked a debate ...</td>\n    </tr>\n    <tr>\n      <th>96</th>\n      <td>Graph Homomorphism, Monotone Classes and Bound...</td>\n      <td>Computational Complexity (cs.CC)</td>\n      <td>Tala Eagling-Vose, Barnaby Martin, Daniel Paul...</td>\n      <td>A recent paper describes a framework for study...</td>\n    </tr>\n    <tr>\n      <th>97</th>\n      <td>Analyzing Divergence for Nondeterministic Prob...</td>\n      <td>Logic in Computer Science (cs.LO)</td>\n      <td>Hao Wu, Yuxi Fu, Huan Long, Xian Xu, Wenbo Zhang</td>\n      <td>Branching and weak probabilistic bisimilaritie...</td>\n    </tr>\n    <tr>\n      <th>98</th>\n      <td>Multiple Ways of Working with Users to Develop...</td>\n      <td>Human-Computer Interaction (cs.HC)</td>\n      <td>Amal Nanavati, Max Pascher, Vinitha Ranganeni,...</td>\n      <td>Despite the growth of physically assistive rob...</td>\n    </tr>\n    <tr>\n      <th>99</th>\n      <td>Selective-Stereo: Adaptive Frequency Informati...</td>\n      <td>Computer Vision and Pattern Recognition (cs.CV)</td>\n      <td>Xianqi Wang, Gangwei Xu, Hao Jia, Xin Yang</td>\n      <td>Stereo matching methods based on iterative opt...</td>\n    </tr>\n  </tbody>\n</table>\n<p>100 rows × 4 columns</p>\n</div>"
     },
     "execution_count": 58,
     "metadata": {},
     "output_type": "execute_result"
    }
   ],
   "source": [
    "df = pd.DataFrame(columns=[\"Title\", \"Subjects\", \"Authors\", \"Abstract\"])\n",
    "for link in tqdm(all_paper_links, desc=\"Processing papers\", unit=\"paper\"):\n",
    "    # 构造完整的URL\n",
    "    full_url = 'https://arxiv.org/' + link\n",
    "    df.loc[len(df)] = extract_content(full_url)\n",
    "    sleep(1)\n",
    "df"
   ],
   "metadata": {
    "collapsed": false,
    "ExecuteTime": {
     "end_time": "2024-03-04T07:47:35.376738Z",
     "start_time": "2024-03-04T07:44:59.527546Z"
    }
   },
   "id": "87cf1982d56d25c4"
  },
  {
   "cell_type": "code",
   "execution_count": 60,
   "outputs": [],
   "source": [
    "df.to_csv('arxiv_papers.csv', index=False)"
   ],
   "metadata": {
    "collapsed": false,
    "ExecuteTime": {
     "end_time": "2024-03-04T07:47:55.027339Z",
     "start_time": "2024-03-04T07:47:55.004982Z"
    }
   },
   "id": "2f2d7d6327dd3630"
  },
  {
   "cell_type": "code",
   "execution_count": null,
   "outputs": [],
   "source": [],
   "metadata": {
    "collapsed": false
   },
   "id": "7692a4524c66707c"
  }
 ],
 "metadata": {
  "kernelspec": {
   "display_name": "Python 3",
   "language": "python",
   "name": "python3"
  },
  "language_info": {
   "codemirror_mode": {
    "name": "ipython",
    "version": 2
   },
   "file_extension": ".py",
   "mimetype": "text/x-python",
   "name": "python",
   "nbconvert_exporter": "python",
   "pygments_lexer": "ipython2",
   "version": "2.7.6"
  }
 },
 "nbformat": 4,
 "nbformat_minor": 5
}
