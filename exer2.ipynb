{
 "cells": [
  {
   "cell_type": "code",
   "execution_count": 1,
   "metadata": {},
   "outputs": [],
   "source": [
    "import requests  # send request\n",
    "from bs4 import BeautifulSoup  # parse web pages\n",
    "import pandas as pd  # csv\n",
    "from time import sleep  # wait\n",
    "import numpy as np\n",
    "# import matplotlib.pyplot as plt\n",
    "# import seaborn as sns\n",
    "# import json\n",
    "from tqdm import tqdm  # progress bar"
   ]
  },
  {
   "cell_type": "code",
   "execution_count": 2,
   "metadata": {},
   "outputs": [],
   "source": [
    "# header100 = {\n",
    "#     \"authority\": \"arxiv.org\",\n",
    "#     \"accept\": \"text/html,application/xhtml+xml,application/xml;q=0.9,image/avif,image/webp,image/apng,*/*;q=0.8,application/signed-exchange;v=b3;q=0.7\",\n",
    "#     \"accept-language\": \"zh-CN,zh;q=0.9,en;q=0.8,zh-HK;q=0.7,en-GB;q=0.6,en-US;q=0.5,zh-TW;q=0.4\",\n",
    "#     \"cache-control\": \"max-age=0\",\n",
    "#     \"if-modified-since\": \"Mon, 04 Mar 2024 04:25:40 GMT\",\n",
    "#     \"if-none-match\": '\"Mon, 04 Mar 2024 04:25:40 GMT\"',\n",
    "#     # \"referer\": \" https://curlconverter.com/\",\n",
    "#     \"sec-ch-ua\": '\"Chromium\";v=\"122\", \"Not(A:Brand\";v=\"24\", \"Microsoft Edge\";v=\"122\"',\n",
    "#     \"sec-ch-ua-mobile\": \"?0\",\n",
    "#     \"sec-ch-ua-platform\": '\"Windows\"',\n",
    "#     \"sec-fetch-dest\": \"document\",\n",
    "#     \"sec-fetch-mode\": \"navigate\",\n",
    "#     \"sec-fetch-site\": \"none\",\n",
    "#     \"sec-fetch-user\": \"?1\",\n",
    "#     \"upgrade-insecure-requests\": \"1\",\n",
    "#     \"user-agent\": \"Mozilla/5.0 (Windows NT 10.0; Win64; x64) AppleWebKit/537.36 (KHTML, like Gecko) Chrome/122.0.0.0 Safari/537.36 Edg/122.0.0.0\",\n",
    "# }"
   ]
  },
  {
   "cell_type": "code",
   "execution_count": 3,
   "metadata": {},
   "outputs": [],
   "source": [
    "url = \"https://arxiv.org/list/cs/pastweek?skip=0&show=100\"\n",
    "page = requests.get(url)\n",
    "soup100 = BeautifulSoup(page.content, \"html.parser\")"
   ]
  },
  {
   "cell_type": "markdown",
   "metadata": {},
   "source": [
    "# Collecting the title, Subjects, Authors, and abstract"
   ]
  },
  {
   "cell_type": "code",
   "execution_count": 4,
   "metadata": {},
   "outputs": [
    {
     "data": {
      "text/plain": [
       "'Point Could Mamba: Point Cloud Learning via State Space Model'"
      ]
     },
     "execution_count": 4,
     "metadata": {},
     "output_type": "execute_result"
    }
   ],
   "source": [
    "all100 = soup100.find(\"dl\")\n",
    "\n",
    "title_list = all100.find_all(\"div\", class_=\"list-title mathjax\")\n",
    "title_text = title_list[0].get_text(strip=True)\n",
    "title_text = title_text[title_text.find(\"Title:\")+6:]\n",
    "title_text"
   ]
  },
  {
   "cell_type": "code",
   "execution_count": 5,
   "metadata": {},
   "outputs": [
    {
     "data": {
      "text/plain": [
       "'Computer Vision and Pattern Recognition (cs.CV)'"
      ]
     },
     "execution_count": 5,
     "metadata": {},
     "output_type": "execute_result"
    }
   ],
   "source": [
    "subject_list = all100.find_all(\"div\", class_=\"list-subjects\")\n",
    "\n",
    "subject_text = subject_list[0].find(\"span\", class_=\"primary-subject\").get_text(strip=True)\n",
    "subject_text"
   ]
  },
  {
   "cell_type": "code",
   "execution_count": 6,
   "metadata": {},
   "outputs": [
    {
     "data": {
      "text/plain": [
       "'Tao Zhang,Xiangtai Li,Haobo Yuan,Shunping Ji,Shuicheng Yan'"
      ]
     },
     "execution_count": 6,
     "metadata": {},
     "output_type": "execute_result"
    }
   ],
   "source": [
    "author_list= all100.find_all(\"div\", class_=\"list-authors\")\n",
    "\n",
    "author_text = author_list[0].get_text(strip=True)\n",
    "author_text = author_text[author_text.find(\"Authors:\")+8:]\n",
    "author_text"
   ]
  },
  {
   "cell_type": "code",
   "execution_count": 7,
   "metadata": {},
   "outputs": [
    {
     "data": {
      "text/plain": [
       "\"In this work, for the first time, we demonstrate that Mamba-based point cloud methods can outperform point-based methods. Mamba exhibits strong global modeling capabilities and linear computational complexity, making it highly attractive for point cloud analysis. To enable more effective processing of 3-D point cloud data by Mamba, we propose a novel Consistent Traverse Serialization to convert point clouds into 1-D point sequences while ensuring that neighboring points in the sequence are also spatially adjacent. Consistent Traverse Serialization yields six variants by permuting the order of x, y, and z coordinates, and the synergistic use of these variants aids Mamba in comprehensively observing point cloud data. Furthermore, to assist Mamba in handling point sequences with different orders more effectively, we introduce point prompts to inform Mamba of the sequence's arrangement rules. Finally, we propose positional encoding based on spatial coordinate mapping to inject positional information into point cloud sequences better. Based on these improvements, we construct a point cloud network named Point Cloud Mamba, which combines local and global modeling. Point Cloud Mamba surpasses the SOTA point-based method PointNeXt and achieves new SOTA performance on the ScanObjectNN, ModelNet40, and ShapeNetPart datasets.\""
      ]
     },
     "execution_count": 7,
     "metadata": {},
     "output_type": "execute_result"
    }
   ],
   "source": [
    "paper_id_list = all100.find_all(\"a\", title=\"Abstract\")\n",
    "\n",
    "paper_id = paper_id_list[0].get_text(strip=True)\n",
    "paper_id = paper_id[paper_id.find(\"arXiv:\")+6:]\n",
    "url_abstract = \"https://arxiv.org/abs/\"+ str(paper_id)\n",
    "page_abstract = requests.get(url_abstract)\n",
    "soup_abstract = BeautifulSoup(page_abstract.content, \"html.parser\")\n",
    "soup_abstract.find(\"blockquote\", class_=\"abstract mathjax\").get_text(strip=True)[9:]"
   ]
  },
  {
   "cell_type": "markdown",
   "metadata": {},
   "source": [
    "# save into `.csv` file"
   ]
  },
  {
   "cell_type": "code",
   "execution_count": 8,
   "metadata": {},
   "outputs": [],
   "source": [
    "df = pd.DataFrame(columns=[\"Title\", \"Subject\", \"Authors\", \"Abstract\"])"
   ]
  },
  {
   "cell_type": "code",
   "execution_count": 9,
   "metadata": {},
   "outputs": [
    {
     "name": "stderr",
     "output_type": "stream",
     "text": [
      "  9%|▉         | 9/100 [00:32<05:31,  3.64s/it]"
     ]
    },
    {
     "name": "stdout",
     "output_type": "stream",
     "text": [
      "An error occurred: HTTPSConnectionPool(host='arxiv.org', port=443): Max retries exceeded with url: /abs/2403.00725 (Caused by ProxyError('Cannot connect to proxy.', ConnectionResetError(10054, '远程主机强迫关闭了一个现有的连接。', None, 10054, None)))\n"
     ]
    },
    {
     "name": "stderr",
     "output_type": "stream",
     "text": [
      "100%|██████████| 100/100 [06:55<00:00,  4.15s/it]\n"
     ]
    }
   ],
   "source": [
    "for i in tqdm(range(100)):\n",
    "    try:\n",
    "        title_text = title_list[i].get_text(strip=True)\n",
    "        title_text = title_text[title_text.find(\"Title:\")+6:]\n",
    "        subject_text = subject_list[i].find(\"span\", class_=\"primary-subject\").get_text(strip=True)\n",
    "        author_text = author_list[i].get_text(strip=True)\n",
    "        author_text = author_text[author_text.find(\"Authors:\")+8:]\n",
    "        paper_id = paper_id_list[i].get_text(strip=True)\n",
    "        paper_id = paper_id[paper_id.find(\"arXiv:\")+6:]\n",
    "        url_abstract = \"https://arxiv.org/abs/\"+ str(paper_id)\n",
    "\n",
    "        ################################################################################\n",
    "        for _ in range(10):  # 尝试 多次\n",
    "            try:\n",
    "                page_abstract = requests.get(url_abstract, timeout=5)\n",
    "                break\n",
    "            except requests.exceptions.RequestException:\n",
    "                sleep(10)\n",
    "        else:\n",
    "            print(\"skip the paper with index = \", i)\n",
    "            continue  # 如果 几 次尝试都失败，跳过这个循环的剩余部分并开始下一个循环\n",
    "        ################################################################################\n",
    "\n",
    "        page_abstract = requests.get(url_abstract)\n",
    "        soup_abstract = BeautifulSoup(page_abstract.content, \"html.parser\")\n",
    "        abstract_text = soup_abstract.find(\"blockquote\", class_=\"abstract mathjax\").get_text(strip=True)[9:]\n",
    "        df = df._append({\"Title\": title_text, \"Subject\": subject_text, \"Authors\": author_text, \"Abstract\": abstract_text}, ignore_index=True)\n",
    "        sleep(2)\n",
    "    except Exception as e:\n",
    "        print(f\"An error occurred: {e}\")"
   ]
  },
  {
   "cell_type": "code",
   "execution_count": 10,
   "metadata": {},
   "outputs": [
    {
     "data": {
      "text/html": [
       "<div>\n",
       "<style scoped>\n",
       "    .dataframe tbody tr th:only-of-type {\n",
       "        vertical-align: middle;\n",
       "    }\n",
       "\n",
       "    .dataframe tbody tr th {\n",
       "        vertical-align: top;\n",
       "    }\n",
       "\n",
       "    .dataframe thead th {\n",
       "        text-align: right;\n",
       "    }\n",
       "</style>\n",
       "<table border=\"1\" class=\"dataframe\">\n",
       "  <thead>\n",
       "    <tr style=\"text-align: right;\">\n",
       "      <th></th>\n",
       "      <th>Title</th>\n",
       "      <th>Subject</th>\n",
       "      <th>Authors</th>\n",
       "      <th>Abstract</th>\n",
       "    </tr>\n",
       "  </thead>\n",
       "  <tbody>\n",
       "    <tr>\n",
       "      <th>0</th>\n",
       "      <td>Point Could Mamba: Point Cloud Learning via St...</td>\n",
       "      <td>Computer Vision and Pattern Recognition (cs.CV)</td>\n",
       "      <td>Tao Zhang,Xiangtai Li,Haobo Yuan,Shunping Ji,S...</td>\n",
       "      <td>In this work, for the first time, we demonstra...</td>\n",
       "    </tr>\n",
       "    <tr>\n",
       "      <th>1</th>\n",
       "      <td>Mitigating Reversal Curse via Semantic-aware P...</td>\n",
       "      <td>Computation and Language (cs.CL)</td>\n",
       "      <td>Qingyan Guo,Rui Wang,Junliang Guo,Xu Tan,Jiang...</td>\n",
       "      <td>While large language models (LLMs) have achiev...</td>\n",
       "    </tr>\n",
       "    <tr>\n",
       "      <th>2</th>\n",
       "      <td>An Experimental Study of Low-Latency Video Str...</td>\n",
       "      <td>Multimedia (cs.MM)</td>\n",
       "      <td>Imran Khan,Tuyen X. Tran,Matti Hiltunen,Theodo...</td>\n",
       "      <td>Low-latency video streaming over 5G has become...</td>\n",
       "    </tr>\n",
       "    <tr>\n",
       "      <th>3</th>\n",
       "      <td>AtP*: An efficient and scalable method for loc...</td>\n",
       "      <td>Machine Learning (cs.LG)</td>\n",
       "      <td>János Kramár,Tom Lieberum,Rohin Shah,Neel Nand...</td>\n",
       "      <td>Activation Patching is a method of directly co...</td>\n",
       "    </tr>\n",
       "    <tr>\n",
       "      <th>4</th>\n",
       "      <td>Neural Acceleration of Incomplete Cholesky Pre...</td>\n",
       "      <td>Distributed, Parallel, and Cluster Computing (...</td>\n",
       "      <td>Joshua Dennis Booth,Hongyang Sun,Trevor Garnett</td>\n",
       "      <td>The solution of a sparse system of linear equa...</td>\n",
       "    </tr>\n",
       "    <tr>\n",
       "      <th>...</th>\n",
       "      <td>...</td>\n",
       "      <td>...</td>\n",
       "      <td>...</td>\n",
       "      <td>...</td>\n",
       "    </tr>\n",
       "    <tr>\n",
       "      <th>94</th>\n",
       "      <td>Do Zombies Understand? A Choose-Your-Own-Adven...</td>\n",
       "      <td>Computation and Language (cs.CL)</td>\n",
       "      <td>Ariel Goldstein,Gabriel Stanovsky</td>\n",
       "      <td>Recent advances in LLMs have sparked a debate ...</td>\n",
       "    </tr>\n",
       "    <tr>\n",
       "      <th>95</th>\n",
       "      <td>Graph Homomorphism, Monotone Classes and Bound...</td>\n",
       "      <td>Computational Complexity (cs.CC)</td>\n",
       "      <td>Tala Eagling-Vose,Barnaby Martin,Daniel Paulus...</td>\n",
       "      <td>A recent paper describes a framework for study...</td>\n",
       "    </tr>\n",
       "    <tr>\n",
       "      <th>96</th>\n",
       "      <td>Analyzing Divergence for Nondeterministic Prob...</td>\n",
       "      <td>Logic in Computer Science (cs.LO)</td>\n",
       "      <td>Hao Wu,Yuxi Fu,Huan Long,Xian Xu,Wenbo Zhang</td>\n",
       "      <td>Branching and weak probabilistic bisimilaritie...</td>\n",
       "    </tr>\n",
       "    <tr>\n",
       "      <th>97</th>\n",
       "      <td>Multiple Ways of Working with Users to Develop...</td>\n",
       "      <td>Human-Computer Interaction (cs.HC)</td>\n",
       "      <td>Amal Nanavati,Max Pascher,Vinitha Ranganeni,Et...</td>\n",
       "      <td>Despite the growth of physically assistive rob...</td>\n",
       "    </tr>\n",
       "    <tr>\n",
       "      <th>98</th>\n",
       "      <td>Selective-Stereo: Adaptive Frequency Informati...</td>\n",
       "      <td>Computer Vision and Pattern Recognition (cs.CV)</td>\n",
       "      <td>Xianqi Wang,Gangwei Xu,Hao Jia,Xin Yang</td>\n",
       "      <td>Stereo matching methods based on iterative opt...</td>\n",
       "    </tr>\n",
       "  </tbody>\n",
       "</table>\n",
       "<p>99 rows × 4 columns</p>\n",
       "</div>"
      ],
      "text/plain": [
       "                                                Title  \\\n",
       "0   Point Could Mamba: Point Cloud Learning via St...   \n",
       "1   Mitigating Reversal Curse via Semantic-aware P...   \n",
       "2   An Experimental Study of Low-Latency Video Str...   \n",
       "3   AtP*: An efficient and scalable method for loc...   \n",
       "4   Neural Acceleration of Incomplete Cholesky Pre...   \n",
       "..                                                ...   \n",
       "94  Do Zombies Understand? A Choose-Your-Own-Adven...   \n",
       "95  Graph Homomorphism, Monotone Classes and Bound...   \n",
       "96  Analyzing Divergence for Nondeterministic Prob...   \n",
       "97  Multiple Ways of Working with Users to Develop...   \n",
       "98  Selective-Stereo: Adaptive Frequency Informati...   \n",
       "\n",
       "                                              Subject  \\\n",
       "0     Computer Vision and Pattern Recognition (cs.CV)   \n",
       "1                    Computation and Language (cs.CL)   \n",
       "2                                  Multimedia (cs.MM)   \n",
       "3                            Machine Learning (cs.LG)   \n",
       "4   Distributed, Parallel, and Cluster Computing (...   \n",
       "..                                                ...   \n",
       "94                   Computation and Language (cs.CL)   \n",
       "95                   Computational Complexity (cs.CC)   \n",
       "96                  Logic in Computer Science (cs.LO)   \n",
       "97                 Human-Computer Interaction (cs.HC)   \n",
       "98    Computer Vision and Pattern Recognition (cs.CV)   \n",
       "\n",
       "                                              Authors  \\\n",
       "0   Tao Zhang,Xiangtai Li,Haobo Yuan,Shunping Ji,S...   \n",
       "1   Qingyan Guo,Rui Wang,Junliang Guo,Xu Tan,Jiang...   \n",
       "2   Imran Khan,Tuyen X. Tran,Matti Hiltunen,Theodo...   \n",
       "3   János Kramár,Tom Lieberum,Rohin Shah,Neel Nand...   \n",
       "4     Joshua Dennis Booth,Hongyang Sun,Trevor Garnett   \n",
       "..                                                ...   \n",
       "94                  Ariel Goldstein,Gabriel Stanovsky   \n",
       "95  Tala Eagling-Vose,Barnaby Martin,Daniel Paulus...   \n",
       "96       Hao Wu,Yuxi Fu,Huan Long,Xian Xu,Wenbo Zhang   \n",
       "97  Amal Nanavati,Max Pascher,Vinitha Ranganeni,Et...   \n",
       "98            Xianqi Wang,Gangwei Xu,Hao Jia,Xin Yang   \n",
       "\n",
       "                                             Abstract  \n",
       "0   In this work, for the first time, we demonstra...  \n",
       "1   While large language models (LLMs) have achiev...  \n",
       "2   Low-latency video streaming over 5G has become...  \n",
       "3   Activation Patching is a method of directly co...  \n",
       "4   The solution of a sparse system of linear equa...  \n",
       "..                                                ...  \n",
       "94  Recent advances in LLMs have sparked a debate ...  \n",
       "95  A recent paper describes a framework for study...  \n",
       "96  Branching and weak probabilistic bisimilaritie...  \n",
       "97  Despite the growth of physically assistive rob...  \n",
       "98  Stereo matching methods based on iterative opt...  \n",
       "\n",
       "[99 rows x 4 columns]"
      ]
     },
     "execution_count": 10,
     "metadata": {},
     "output_type": "execute_result"
    }
   ],
   "source": [
    "df.to_csv(\"arxiv.csv\", index=False)\n",
    "df"
   ]
  }
 ],
 "metadata": {
  "kernelspec": {
   "display_name": "base",
   "language": "python",
   "name": "python3"
  },
  "language_info": {
   "codemirror_mode": {
    "name": "ipython",
    "version": 3
   },
   "file_extension": ".py",
   "mimetype": "text/x-python",
   "name": "python",
   "nbconvert_exporter": "python",
   "pygments_lexer": "ipython3",
   "version": "3.11.5"
  }
 },
 "nbformat": 4,
 "nbformat_minor": 2
}
