{
 "cells": [
  {
   "cell_type": "code",
   "execution_count": 1,
   "id": "3349bae9",
   "metadata": {},
   "outputs": [],
   "source": [
    "import requests\n",
    "from bs4 import BeautifulSoup\n",
    "import pandas as pd\n",
    "from tqdm import tqdm\n",
    "import time\n",
    "titles=[]\n",
    "authors=[]\n",
    "subjects=[]\n",
    "abstracts=[]"
   ]
  },
  {
   "cell_type": "code",
   "execution_count": 2,
   "id": "b3a566e9",
   "metadata": {},
   "outputs": [],
   "source": [
    "url=\"https://arxiv.org/list/cs/pastweek?skip=0&show=100\"\n",
    "headers = {\n",
    "    'authority': 'curlconverter.com',\n",
    "    'accept': 'text/html,application/xhtml+xml,application/xml;q=0.9,image/webp,image/apng,*/*;q=0.8,application/signed-exchange;v=b3;q=0.9',\n",
    "    'accept-language': 'zh-CN,zh;q=0.9,en;q=0.8,en-GB;q=0.7,en-US;q=0.6',\n",
    "    'cache-control': 'max-age=0',\n",
    "    'if-modified-since': 'Fri, 15 Jul 2022 21:44:42 GMT',\n",
    "    'if-none-match': 'W/\"62d1dfca-3a58\"',\n",
    "    'referer': 'https://curlconverter.com/',\n",
    "    'sec-ch-ua': '\" Not A;Brand\";v=\"99\", \"Chromium\";v=\"102\", \"Microsoft Edge\";v=\"102\"',\n",
    "    'sec-ch-ua-mobile': '?0',\n",
    "    'sec-ch-ua-platform': '\"Linux\"',\n",
    "    'sec-fetch-dest': 'document',\n",
    "    'sec-fetch-mode': 'navigate',\n",
    "    'sec-fetch-site': 'cross-site',\n",
    "    'sec-fetch-user': '?1',\n",
    "    'upgrade-insecure-requests': '1',\n",
    "    'user-agent': 'Mozilla/5.0 (X11; Linux x86_64) AppleWebKit/537.36 (KHTML, like Gecko) Chrome/102.0.5005.63 Safari/537.36 Edg/102.0.1245.30',\n",
    "}\n",
    "r=requests.get(url,headers=headers)\n",
    "soup=BeautifulSoup(r.text,\"html.parser\")\n",
    "for item in soup.find_all('div',{'class': 'list-title mathjax'}):\n",
    "    title=item.get_text().split('Title:', 1)[-1]\n",
    "    titles.append(title)\n",
    "\n",
    "for item in soup.find_all('div',{'class':'list-authors'}):\n",
    "    text=item.get_text(strip=True)\n",
    "    author=text.replace(',',';').split('Authors:',1)[-1]\n",
    "    authors.append(author)\n",
    "    \n",
    "for item in soup.find_all('div',{'class':'list-subjects'}):\n",
    "    subject=item.get_text().split('Subjects:',1)[-1].strip()\n",
    "    subjects.append(subject)"
   ]
  },
  {
   "cell_type": "code",
   "execution_count": 3,
   "id": "c7273d32",
   "metadata": {},
   "outputs": [
    {
     "name": "stdout",
     "output_type": "stream",
     "text": [
      "100\n",
      "100\n",
      "100\n"
     ]
    }
   ],
   "source": [
    "print(len(titles))\n",
    "print(len(authors))\n",
    "print(len(subjects))"
   ]
  },
  {
   "cell_type": "code",
   "execution_count": 4,
   "id": "3294ea58",
   "metadata": {},
   "outputs": [
    {
     "name": "stderr",
     "output_type": "stream",
     "text": [
      "Processing: 100%|████████████████████████████████████████████████████████████████████| 100/100 [03:09<00:00,  1.89s/it]\n"
     ]
    }
   ],
   "source": [
    "i=0\n",
    "for item in tqdm(soup.find_all('dt'), desc='Processing'):\n",
    "    idd=item.get_text().split(':')[1].split('[')[0].strip()\n",
    "    urll=f\"https://arxiv.org/abs/{idd}\"\n",
    "    i+=1\n",
    "    headers = {\n",
    "    'authority':'curlconverter.com',\n",
    "    'accept': 'text/html,application/xhtml+xml,application/xml;q=0.9,image/webp,image/apng,*/*;q=0.8,application/signed-exchange;v=b3;q=0.9',\n",
    "    'accept-language': 'zh-CN,zh;q=0.9,en;q=0.8,en-GB;q=0.7,en-US;q=0.6',\n",
    "    'cache-control': 'max-age=0',\n",
    "    'if-modified-since': 'Fri, 15 Jul 2022 21:44:42 GMT',\n",
    "    'if-none-match': 'W/\"62d1dfca-3a58\"',\n",
    "    'referer': 'https://curlconverter.com/',\n",
    "    'sec-ch-ua': '\" Not A;Brand\";v=\"99\", \"Chromium\";v=\"102\", \"Microsoft Edge\";v=\"102\"',\n",
    "    'sec-ch-ua-mobile': '?0',\n",
    "    'sec-ch-ua-platform': '\"Linux\"',\n",
    "    'sec-fetch-dest': 'document',\n",
    "    'sec-fetch-mode': 'navigate',\n",
    "    'sec-fetch-site': 'cross-site',\n",
    "    'sec-fetch-user': '?1',\n",
    "    'upgrade-insecure-requests': '1',\n",
    "    'user-agent': 'Mozilla/5.0 (X11; Linux x86_64) AppleWebKit/537.36 (KHTML, like Gecko) Chrome/102.0.5005.63 Safari/537.36 Edg/102.0.1245.30',\n",
    "}\n",
    "    req=requests.get(urll,headers=headers)\n",
    "    s=BeautifulSoup(req.text,'html.parser')\n",
    "    time.sleep(0)\n",
    "    for m in s.find_all('blockquote',{'class':'abstract mathjax'}):\n",
    "        text=m.get_text().split(\"Abstract:\",1)[-1].strip()\n",
    "        abstract=f'\"{text}\"'\n",
    "        abstracts.append(abstract)"
   ]
  },
  {
   "cell_type": "code",
   "execution_count": 6,
   "id": "f156c93f",
   "metadata": {
    "tags": []
   },
   "outputs": [
    {
     "name": "stdout",
     "output_type": "stream",
     "text": [
      "100\n"
     ]
    }
   ],
   "source": [
    "print(len(abstracts))"
   ]
  },
  {
   "cell_type": "code",
   "execution_count": 7,
   "id": "3df25639-2064-419b-9ff3-9dbc35f44eec",
   "metadata": {
    "tags": []
   },
   "outputs": [],
   "source": [
    "df=pd.DataFrame({\n",
    "    \"title\":titles,\n",
    "    \"author\":authors,\n",
    "    \"subject\":subjects,\n",
    "    \"abstract\":abstracts\n",
    "})\n",
    "\n",
    "df.to_csv('./a.csv',index=False)"
   ]
  },
  {
   "cell_type": "code",
   "execution_count": null,
   "id": "4e3f0165-679a-421f-819f-3a63d61e0b9c",
   "metadata": {},
   "outputs": [],
   "source": []
  }
 ],
 "metadata": {
  "kernelspec": {
   "display_name": "Python 3 (ipykernel)",
   "language": "python",
   "name": "python3"
  },
  "language_info": {
   "codemirror_mode": {
    "name": "ipython",
    "version": 3
   },
   "file_extension": ".py",
   "mimetype": "text/x-python",
   "name": "python",
   "nbconvert_exporter": "python",
   "pygments_lexer": "ipython3",
   "version": "3.11.5"
  }
 },
 "nbformat": 4,
 "nbformat_minor": 5
}
