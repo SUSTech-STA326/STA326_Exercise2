{
 "cells": [
  {
   "cell_type": "code",
   "execution_count": 1,
   "metadata": {},
   "outputs": [],
   "source": [
    "import requests  # send request\n",
    "from bs4 import BeautifulSoup  # parse web pages\n",
    "import pandas as pd  # csv\n",
    "from time import sleep  # wait\n",
    "import numpy as np\n",
    "import matplotlib.pyplot as plt\n",
    "import json\n",
    "import os\n",
    "import re"
   ]
  },
  {
   "cell_type": "code",
   "execution_count": 2,
   "metadata": {},
   "outputs": [],
   "source": [
    "headers = {\n",
    "    'authority': 'arxiv.org',\n",
    "    'accept': 'text/html,application/xhtml+xml,application/xml;q=0.9,image/avif,image/webp,image/apng,*/*;q=0.8,application/signed-exchange;v=b3;q=0.7',\n",
    "    'accept-language': 'zh-CN,zh;q=0.9,en;q=0.8,en-GB;q=0.7,en-US;q=0.6',\n",
    "    'sec-ch-ua': '\"Chromium\";v=\"122\", \"Not(A:Brand\";v=\"24\", \"Microsoft Edge\";v=\"122\"',\n",
    "    'sec-ch-ua-mobile': '?0',\n",
    "    'sec-ch-ua-platform': '\"Windows\"',\n",
    "    'sec-fetch-dest': 'document',\n",
    "    'sec-fetch-mode': 'navigate',\n",
    "    'sec-fetch-site': 'same-origin',\n",
    "    'sec-fetch-user': '?1',\n",
    "    'upgrade-insecure-requests': '1',\n",
    "    'user-agent': 'Mozilla/5.0 (Windows NT 10.0; Win64; x64) AppleWebKit/537.36 (KHTML, like Gecko) Chrome/122.0.0.0 Safari/537.36 Edg/122.0.0.0',\n",
    "}"
   ]
  },
  {
   "cell_type": "code",
   "execution_count": 4,
   "metadata": {},
   "outputs": [],
   "source": [
    "\n",
    "url = \"https://arxiv.org/list/cs/pastweek?skip=0&show=100\"\n",
    "page = requests.get(url,headers = headers)\n",
    "soup=(BeautifulSoup(page.text, 'html.parser'))"
   ]
  },
  {
   "cell_type": "code",
   "execution_count": 7,
   "metadata": {},
   "outputs": [],
   "source": [
    "paper_titles = []\n",
    "paper_subjects = []\n",
    "paper_authors = []\n",
    "for i in soup.find_all('div', {'class':'list-title mathjax'}):\n",
    "        paper_titles.append(i.text.strip().replace('Title: ',''))\n",
    "        \n",
    "for i in soup.find_all('span', {'class':'primary-subject'}):\n",
    "        paper_subjects.append(i.text.strip())\n",
    "\n",
    "for i in soup.find_all('div', {'class':'list-authors'}):\n",
    "        paper_authors.append(i.text.strip().replace('\\n', '').replace('Authors:',''))"
   ]
  },
  {
   "cell_type": "code",
   "execution_count": 12,
   "metadata": {},
   "outputs": [],
   "source": [
    "paper_codes = []\n",
    "for i in soup.find_all('dt'):\n",
    "        paper_codes.append(i.text.strip())"
   ]
  },
  {
   "cell_type": "code",
   "execution_count": 14,
   "metadata": {},
   "outputs": [],
   "source": [
    "paper_numbers = [re.findall(r'\\d+\\.\\d+', s) for s in paper_codes]\n",
    "codes = []\n",
    "for i in paper_numbers:\n",
    "    for j in i:\n",
    "        codes.append(j.replace(\"[\", \"\").replace(\"]\", \"\"))\n"
   ]
  },
  {
   "cell_type": "code",
   "execution_count": 25,
   "metadata": {},
   "outputs": [],
   "source": [
    "url = 'https://arxiv.org/abs/'\n",
    "soup1 = []\n",
    "for i in range(0,len(codes)):\n",
    "    page = requests.get(url+codes[i],headers = headers)\n",
    "    soup1.append(BeautifulSoup(page.text, 'html.parser'))\n",
    "    sleep(1)"
   ]
  },
  {
   "cell_type": "code",
   "execution_count": 30,
   "metadata": {},
   "outputs": [],
   "source": [
    "paper_abstracts = []\n",
    "for i in soup1:\n",
    "    paper_abstracts.append(i.find('blockquote', {'abstract mathjax'}).text.strip().replace('Abstract:',''))\n"
   ]
  },
  {
   "cell_type": "code",
   "execution_count": 34,
   "metadata": {},
   "outputs": [],
   "source": [
    "df = pd.DataFrame({'Title':paper_titles, 'Subject':paper_subjects, 'Authors':paper_authors, 'Abstract':paper_abstracts})\n",
    "df.to_csv('arxiv_papers.csv', index=False)"
   ]
  }
 ],
 "metadata": {
  "kernelspec": {
   "display_name": "base",
   "language": "python",
   "name": "python3"
  },
  "language_info": {
   "codemirror_mode": {
    "name": "ipython",
    "version": 3
   },
   "file_extension": ".py",
   "mimetype": "text/x-python",
   "name": "python",
   "nbconvert_exporter": "python",
   "pygments_lexer": "ipython3",
   "version": "3.9.16"
  }
 },
 "nbformat": 4,
 "nbformat_minor": 2
}
