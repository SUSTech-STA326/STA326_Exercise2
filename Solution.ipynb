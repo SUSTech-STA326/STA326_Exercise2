{
 "cells": [
  {
   "cell_type": "markdown",
   "metadata": {},
   "source": [
    "Touching the first 100 papers under CS topic of ArXiv<br>\n",
    "• https://arxiv.org/list/cs/recent<br>\n",
    "• Collecting the title, Subjects, Authors, and abstract<br>\n",
    "• Save all into a csv files.<br>\n",
    "• Note: we need to collect the abstract from the detailed page"
   ]
  },
  {
   "cell_type": "code",
   "execution_count": 1,
   "metadata": {},
   "outputs": [],
   "source": [
    "import requests\n",
    "from bs4 import BeautifulSoup\n",
    "import pandas as pd"
   ]
  },
  {
   "cell_type": "code",
   "execution_count": 2,
   "metadata": {},
   "outputs": [],
   "source": [
    "from zenrows import ZenRowsClient\n",
    "\n",
    "base_url = \"https://arxiv.org/list/cs/pastweek?skip=0&show=100\"\n",
    "client = ZenRowsClient(\"14d2f2062a095a7caa05e0142ce147f5174b0a7e\")\n",
    "response = client.get(base_url)\n",
    "# print(response.text)"
   ]
  },
  {
   "cell_type": "code",
   "execution_count": 3,
   "metadata": {},
   "outputs": [],
   "source": [
    "base_url = \"https://arxiv.org/list/cs/pastweek?skip=0&show=100\"\n",
    "headers = {\n",
    "    # 'User-Agent': 'Mozilla/5.0 (Windows NT 10.0; Win64; x64) AppleWebKit/537.36 (KHTML, like Gecko) Chrome/122.0.0.0 Safari/537.36'\n",
    "}\n",
    "# response = requests.get(base_url, headers=headers)\n",
    "soup = BeautifulSoup(response.content, 'html.parser')"
   ]
  },
  {
   "cell_type": "code",
   "execution_count": 4,
   "metadata": {},
   "outputs": [],
   "source": [
    "data = []\n",
    "papers = soup.find_all('dd')\n",
    "for paper in papers:\n",
    "    title = paper.find('div', class_='list-title mathjax').text.replace('Title:', '').strip()\n",
    "    subjects = paper.find('div', class_='list-subjects').text.replace('Subjects:', '').strip()\n",
    "    # authors = paper.find('div', class_='list-authors').text.replace('Authors:', '').strip()\n",
    "    authors = paper.find('div', class_='list-authors').text.replace(\"\\n\", \"\").replace(\"Authors:\", \"\").strip()\n",
    "    \n",
    "    data.append({\n",
    "        'Title': title,\n",
    "        'Subjects': subjects,\n",
    "        'Authors': authors,\n",
    "    })"
   ]
  },
  {
   "cell_type": "code",
   "execution_count": 5,
   "metadata": {},
   "outputs": [],
   "source": [
    "import time\n",
    "import random\n",
    "headers_new = {'User-Agent':'Mozilla/5.0 (X11; Linux x86_64) AppleWebKit/537.36 (KHTML, like Gecko) Chrome/52.0.2743.116 Safari/537.36'}\n",
    "links = soup.find_all('dt')\n",
    "abstracts = []\n",
    "for url in links:\n",
    "    paper_url = \"https://arxiv.org\" + url.find('a', href=True)['href']\n",
    "    # paper_response = requests.get(paper_url, headers=headers_new)\n",
    "    paper_response = client.get(paper_url)\n",
    "    \n",
    "    # time.sleep(random.uniform(0.8, 2)) \n",
    "    paper_soup = BeautifulSoup(paper_response.text, 'html.parser')\n",
    "    # print(paper_soup)\n",
    "    \n",
    "    abstract = paper_soup.find('blockquote', class_='abstract').text.replace(\"Abstract:\", \"\").strip()\n",
    "    \n",
    "    abstracts.append({\n",
    "        'Abstract': abstract\n",
    "    })"
   ]
  },
  {
   "cell_type": "code",
   "execution_count": 6,
   "metadata": {},
   "outputs": [],
   "source": [
    "abstracts_df = pd.DataFrame(abstracts)\n",
    "data_df = pd.DataFrame(data)"
   ]
  },
  {
   "cell_type": "code",
   "execution_count": 7,
   "metadata": {},
   "outputs": [
    {
     "data": {
      "text/html": [
       "<div>\n",
       "<style scoped>\n",
       "    .dataframe tbody tr th:only-of-type {\n",
       "        vertical-align: middle;\n",
       "    }\n",
       "\n",
       "    .dataframe tbody tr th {\n",
       "        vertical-align: top;\n",
       "    }\n",
       "\n",
       "    .dataframe thead th {\n",
       "        text-align: right;\n",
       "    }\n",
       "</style>\n",
       "<table border=\"1\" class=\"dataframe\">\n",
       "  <thead>\n",
       "    <tr style=\"text-align: right;\">\n",
       "      <th></th>\n",
       "      <th>Title</th>\n",
       "      <th>Subjects</th>\n",
       "      <th>Authors</th>\n",
       "      <th>Abstract</th>\n",
       "    </tr>\n",
       "  </thead>\n",
       "  <tbody>\n",
       "    <tr>\n",
       "      <th>0</th>\n",
       "      <td>Point Could Mamba: Point Cloud Learning via St...</td>\n",
       "      <td>Computer Vision and Pattern Recognition (cs.CV)</td>\n",
       "      <td>Tao Zhang, Xiangtai Li, Haobo Yuan, Shunping J...</td>\n",
       "      <td>In this work, for the first time, we demonstra...</td>\n",
       "    </tr>\n",
       "    <tr>\n",
       "      <th>1</th>\n",
       "      <td>Mitigating Reversal Curse via Semantic-aware P...</td>\n",
       "      <td>Computation and Language (cs.CL); Artificial I...</td>\n",
       "      <td>Qingyan Guo, Rui Wang, Junliang Guo, Xu Tan, J...</td>\n",
       "      <td>While large language models (LLMs) have achiev...</td>\n",
       "    </tr>\n",
       "    <tr>\n",
       "      <th>2</th>\n",
       "      <td>An Experimental Study of Low-Latency Video Str...</td>\n",
       "      <td>Multimedia (cs.MM); Performance (cs.PF)</td>\n",
       "      <td>Imran Khan, Tuyen X. Tran, Matti Hiltunen, The...</td>\n",
       "      <td>Low-latency video streaming over 5G has become...</td>\n",
       "    </tr>\n",
       "    <tr>\n",
       "      <th>3</th>\n",
       "      <td>AtP*: An efficient and scalable method for loc...</td>\n",
       "      <td>Machine Learning (cs.LG); Computation and Lang...</td>\n",
       "      <td>János Kramár, Tom Lieberum, Rohin Shah, Neel N...</td>\n",
       "      <td>Activation Patching is a method of directly co...</td>\n",
       "    </tr>\n",
       "    <tr>\n",
       "      <th>4</th>\n",
       "      <td>Neural Acceleration of Incomplete Cholesky Pre...</td>\n",
       "      <td>Distributed, Parallel, and Cluster Computing (...</td>\n",
       "      <td>Joshua Dennis Booth, Hongyang Sun, Trevor Garnett</td>\n",
       "      <td>The solution of a sparse system of linear equa...</td>\n",
       "    </tr>\n",
       "  </tbody>\n",
       "</table>\n",
       "</div>"
      ],
      "text/plain": [
       "                                               Title  \\\n",
       "0  Point Could Mamba: Point Cloud Learning via St...   \n",
       "1  Mitigating Reversal Curse via Semantic-aware P...   \n",
       "2  An Experimental Study of Low-Latency Video Str...   \n",
       "3  AtP*: An efficient and scalable method for loc...   \n",
       "4  Neural Acceleration of Incomplete Cholesky Pre...   \n",
       "\n",
       "                                            Subjects  \\\n",
       "0    Computer Vision and Pattern Recognition (cs.CV)   \n",
       "1  Computation and Language (cs.CL); Artificial I...   \n",
       "2            Multimedia (cs.MM); Performance (cs.PF)   \n",
       "3  Machine Learning (cs.LG); Computation and Lang...   \n",
       "4  Distributed, Parallel, and Cluster Computing (...   \n",
       "\n",
       "                                             Authors  \\\n",
       "0  Tao Zhang, Xiangtai Li, Haobo Yuan, Shunping J...   \n",
       "1  Qingyan Guo, Rui Wang, Junliang Guo, Xu Tan, J...   \n",
       "2  Imran Khan, Tuyen X. Tran, Matti Hiltunen, The...   \n",
       "3  János Kramár, Tom Lieberum, Rohin Shah, Neel N...   \n",
       "4  Joshua Dennis Booth, Hongyang Sun, Trevor Garnett   \n",
       "\n",
       "                                            Abstract  \n",
       "0  In this work, for the first time, we demonstra...  \n",
       "1  While large language models (LLMs) have achiev...  \n",
       "2  Low-latency video streaming over 5G has become...  \n",
       "3  Activation Patching is a method of directly co...  \n",
       "4  The solution of a sparse system of linear equa...  "
      ]
     },
     "execution_count": 7,
     "metadata": {},
     "output_type": "execute_result"
    }
   ],
   "source": [
    "merged_df = pd.concat([data_df, abstracts_df], axis=1)\n",
    "merged_df.head()"
   ]
  },
  {
   "cell_type": "code",
   "execution_count": 8,
   "metadata": {},
   "outputs": [],
   "source": [
    "merged_df.to_csv('merged_data.csv', index=False)"
   ]
  }
 ],
 "metadata": {
  "kernelspec": {
   "display_name": "Python 3",
   "language": "python",
   "name": "python3"
  },
  "language_info": {
   "codemirror_mode": {
    "name": "ipython",
    "version": 3
   },
   "file_extension": ".py",
   "mimetype": "text/x-python",
   "name": "python",
   "nbconvert_exporter": "python",
   "pygments_lexer": "ipython3",
   "version": "3.11.7"
  }
 },
 "nbformat": 4,
 "nbformat_minor": 2
}
